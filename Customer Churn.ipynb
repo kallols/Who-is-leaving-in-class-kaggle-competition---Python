{
 "cells": [
  {
   "cell_type": "code",
   "execution_count": 1,
   "metadata": {
    "collapsed": true
   },
   "outputs": [],
   "source": [
    "#importing libraries\n",
    "import numpy as np\n",
    "import pandas as pd"
   ]
  },
  {
   "cell_type": "code",
   "execution_count": 2,
   "metadata": {
    "collapsed": true
   },
   "outputs": [],
   "source": [
    "#reading train data\n",
    "customer_train_raw_data=pd.read_csv(\"C:/Users/kallol/Downloads/retail_trainingset.csv\")"
   ]
  },
  {
   "cell_type": "code",
   "execution_count": 3,
   "metadata": {
    "collapsed": true
   },
   "outputs": [],
   "source": [
    "#reading test data\n",
    "customer_test_raw_data=pd.read_csv(\"C:/Users/kallol/Downloads/retail_testset.csv\")"
   ]
  },
  {
   "cell_type": "code",
   "execution_count": 4,
   "metadata": {},
   "outputs": [
    {
     "data": {
      "text/html": [
       "<div>\n",
       "<style>\n",
       "    .dataframe thead tr:only-child th {\n",
       "        text-align: right;\n",
       "    }\n",
       "\n",
       "    .dataframe thead th {\n",
       "        text-align: left;\n",
       "    }\n",
       "\n",
       "    .dataframe tbody tr th {\n",
       "        vertical-align: top;\n",
       "    }\n",
       "</style>\n",
       "<table border=\"1\" class=\"dataframe\">\n",
       "  <thead>\n",
       "    <tr style=\"text-align: right;\">\n",
       "      <th></th>\n",
       "      <th>ID</th>\n",
       "      <th>Gender</th>\n",
       "      <th>Region</th>\n",
       "      <th>Channel</th>\n",
       "      <th>DOB</th>\n",
       "      <th>Card_registration_date</th>\n",
       "      <th>Last_visit</th>\n",
       "      <th>Amt_spent_in_last_year</th>\n",
       "      <th>Total_amt_spent</th>\n",
       "      <th>Total_visits</th>\n",
       "    </tr>\n",
       "  </thead>\n",
       "  <tbody>\n",
       "    <tr>\n",
       "      <th>0</th>\n",
       "      <td>1</td>\n",
       "      <td>Female</td>\n",
       "      <td>B</td>\n",
       "      <td>Online</td>\n",
       "      <td>1970/10/01</td>\n",
       "      <td>2010/10/07</td>\n",
       "      <td>2014/03/02</td>\n",
       "      <td>1594</td>\n",
       "      <td>18202</td>\n",
       "      <td>7</td>\n",
       "    </tr>\n",
       "    <tr>\n",
       "      <th>1</th>\n",
       "      <td>2</td>\n",
       "      <td>Female</td>\n",
       "      <td>A</td>\n",
       "      <td>Both</td>\n",
       "      <td>1980/07/16</td>\n",
       "      <td>2010/06/18</td>\n",
       "      <td>2014/11/24</td>\n",
       "      <td>1639</td>\n",
       "      <td>13000</td>\n",
       "      <td>20</td>\n",
       "    </tr>\n",
       "    <tr>\n",
       "      <th>2</th>\n",
       "      <td>3</td>\n",
       "      <td>Female</td>\n",
       "      <td>A</td>\n",
       "      <td>Offline</td>\n",
       "      <td>1966/10/20</td>\n",
       "      <td>2008/03/10</td>\n",
       "      <td>2014/10/12</td>\n",
       "      <td>1840</td>\n",
       "      <td>18424</td>\n",
       "      <td>20</td>\n",
       "    </tr>\n",
       "    <tr>\n",
       "      <th>3</th>\n",
       "      <td>4</td>\n",
       "      <td>Male</td>\n",
       "      <td>A</td>\n",
       "      <td>Both</td>\n",
       "      <td>1967/10/15</td>\n",
       "      <td>2008/05/10</td>\n",
       "      <td>2014/06/03</td>\n",
       "      <td>1859</td>\n",
       "      <td>21178</td>\n",
       "      <td>9</td>\n",
       "    </tr>\n",
       "    <tr>\n",
       "      <th>4</th>\n",
       "      <td>5</td>\n",
       "      <td>Male</td>\n",
       "      <td>A</td>\n",
       "      <td>Offline</td>\n",
       "      <td>1983/10/12</td>\n",
       "      <td>2011/12/06</td>\n",
       "      <td>2014/10/04</td>\n",
       "      <td>1609</td>\n",
       "      <td>19471</td>\n",
       "      <td>20</td>\n",
       "    </tr>\n",
       "  </tbody>\n",
       "</table>\n",
       "</div>"
      ],
      "text/plain": [
       "   ID  Gender Region  Channel         DOB Card_registration_date  Last_visit  \\\n",
       "0   1  Female      B   Online  1970/10/01             2010/10/07  2014/03/02   \n",
       "1   2  Female      A     Both  1980/07/16             2010/06/18  2014/11/24   \n",
       "2   3  Female      A  Offline  1966/10/20             2008/03/10  2014/10/12   \n",
       "3   4    Male      A     Both  1967/10/15             2008/05/10  2014/06/03   \n",
       "4   5    Male      A  Offline  1983/10/12             2011/12/06  2014/10/04   \n",
       "\n",
       "   Amt_spent_in_last_year  Total_amt_spent  Total_visits  \n",
       "0                    1594            18202             7  \n",
       "1                    1639            13000            20  \n",
       "2                    1840            18424            20  \n",
       "3                    1859            21178             9  \n",
       "4                    1609            19471            20  "
      ]
     },
     "execution_count": 4,
     "metadata": {},
     "output_type": "execute_result"
    }
   ],
   "source": [
    "#first five rows of the train data to know the structure of the train data\n",
    "customer_test_raw_data.head()"
   ]
  },
  {
   "cell_type": "code",
   "execution_count": 5,
   "metadata": {},
   "outputs": [
    {
     "data": {
      "text/html": [
       "<div>\n",
       "<style>\n",
       "    .dataframe thead tr:only-child th {\n",
       "        text-align: right;\n",
       "    }\n",
       "\n",
       "    .dataframe thead th {\n",
       "        text-align: left;\n",
       "    }\n",
       "\n",
       "    .dataframe tbody tr th {\n",
       "        vertical-align: top;\n",
       "    }\n",
       "</style>\n",
       "<table border=\"1\" class=\"dataframe\">\n",
       "  <thead>\n",
       "    <tr style=\"text-align: right;\">\n",
       "      <th></th>\n",
       "      <th>Gender</th>\n",
       "      <th>Region</th>\n",
       "      <th>Channel</th>\n",
       "      <th>DOB</th>\n",
       "      <th>Card_registration_date</th>\n",
       "      <th>Last_visit</th>\n",
       "      <th>Amt_spent_in_last_year</th>\n",
       "      <th>Total_amt_spent</th>\n",
       "      <th>Total_visits</th>\n",
       "      <th>Churn</th>\n",
       "    </tr>\n",
       "  </thead>\n",
       "  <tbody>\n",
       "    <tr>\n",
       "      <th>0</th>\n",
       "      <td>Male</td>\n",
       "      <td>A</td>\n",
       "      <td>Both</td>\n",
       "      <td>1967/08/19</td>\n",
       "      <td>2009/01/21</td>\n",
       "      <td>2014/01/18</td>\n",
       "      <td>1187</td>\n",
       "      <td>19258</td>\n",
       "      <td>20</td>\n",
       "      <td>No</td>\n",
       "    </tr>\n",
       "    <tr>\n",
       "      <th>1</th>\n",
       "      <td>Female</td>\n",
       "      <td>B</td>\n",
       "      <td>Online</td>\n",
       "      <td>1988/04/25</td>\n",
       "      <td>2010/01/27</td>\n",
       "      <td>2014/04/09</td>\n",
       "      <td>1693</td>\n",
       "      <td>14900</td>\n",
       "      <td>20</td>\n",
       "      <td>No</td>\n",
       "    </tr>\n",
       "    <tr>\n",
       "      <th>2</th>\n",
       "      <td>Male</td>\n",
       "      <td>B</td>\n",
       "      <td>Both</td>\n",
       "      <td>1966/04/21</td>\n",
       "      <td>2008/11/08</td>\n",
       "      <td>2014/01/27</td>\n",
       "      <td>1366</td>\n",
       "      <td>17410</td>\n",
       "      <td>20</td>\n",
       "      <td>No</td>\n",
       "    </tr>\n",
       "    <tr>\n",
       "      <th>3</th>\n",
       "      <td>Male</td>\n",
       "      <td>A</td>\n",
       "      <td>Both</td>\n",
       "      <td>1981/01/08</td>\n",
       "      <td>2011/11/28</td>\n",
       "      <td>2014/05/11</td>\n",
       "      <td>1622</td>\n",
       "      <td>18578</td>\n",
       "      <td>12</td>\n",
       "      <td>No</td>\n",
       "    </tr>\n",
       "    <tr>\n",
       "      <th>4</th>\n",
       "      <td>Male</td>\n",
       "      <td>A</td>\n",
       "      <td>Both</td>\n",
       "      <td>1972/10/22</td>\n",
       "      <td>2011/06/13</td>\n",
       "      <td>2015/01/31</td>\n",
       "      <td>1357</td>\n",
       "      <td>19187</td>\n",
       "      <td>20</td>\n",
       "      <td>No</td>\n",
       "    </tr>\n",
       "  </tbody>\n",
       "</table>\n",
       "</div>"
      ],
      "text/plain": [
       "   Gender Region Channel         DOB Card_registration_date  Last_visit  \\\n",
       "0    Male      A    Both  1967/08/19             2009/01/21  2014/01/18   \n",
       "1  Female      B  Online  1988/04/25             2010/01/27  2014/04/09   \n",
       "2    Male      B    Both  1966/04/21             2008/11/08  2014/01/27   \n",
       "3    Male      A    Both  1981/01/08             2011/11/28  2014/05/11   \n",
       "4    Male      A    Both  1972/10/22             2011/06/13  2015/01/31   \n",
       "\n",
       "   Amt_spent_in_last_year  Total_amt_spent  Total_visits Churn  \n",
       "0                    1187            19258            20    No  \n",
       "1                    1693            14900            20    No  \n",
       "2                    1366            17410            20    No  \n",
       "3                    1622            18578            12    No  \n",
       "4                    1357            19187            20    No  "
      ]
     },
     "execution_count": 5,
     "metadata": {},
     "output_type": "execute_result"
    }
   ],
   "source": [
    "#same goes for test data\n",
    "customer_train_raw_data.head()"
   ]
  },
  {
   "cell_type": "code",
   "execution_count": 6,
   "metadata": {
    "collapsed": true
   },
   "outputs": [],
   "source": [
    "#importing library to know the count of unique value\n",
    "from collections import Counter"
   ]
  },
  {
   "cell_type": "code",
   "execution_count": 7,
   "metadata": {},
   "outputs": [
    {
     "data": {
      "text/plain": [
       "Counter({'No': 26993, 'Yes': 3007})"
      ]
     },
     "execution_count": 7,
     "metadata": {},
     "output_type": "execute_result"
    }
   ],
   "source": [
    "Counter(customer_train_raw_data.Churn)"
   ]
  },
  {
   "cell_type": "code",
   "execution_count": 8,
   "metadata": {},
   "outputs": [
    {
     "data": {
      "text/plain": [
       "Gender                    30000\n",
       "Region                    30000\n",
       "Channel                   30000\n",
       "DOB                       30000\n",
       "Card_registration_date    30000\n",
       "Last_visit                30000\n",
       "Amt_spent_in_last_year    30000\n",
       "Total_amt_spent           30000\n",
       "Total_visits              30000\n",
       "Churn                     30000\n",
       "dtype: int64"
      ]
     },
     "execution_count": 8,
     "metadata": {},
     "output_type": "execute_result"
    }
   ],
   "source": [
    "#counting the values of each column\n",
    "customer_train_raw_data.count()"
   ]
  },
  {
   "cell_type": "code",
   "execution_count": 9,
   "metadata": {
    "collapsed": true
   },
   "outputs": [],
   "source": [
    "#data is imbalanced. So we need to under sample it to reduce bias\n",
    "#creating two dataframes for two classes\n",
    "\n",
    "for i in range(0,30000):\n",
    "    if(customer_train_raw_data.iloc[i,9]=='Yes'):\n",
    "        customer_train_raw_data.iloc[i,9]=1\n",
    "    else:\n",
    "        customer_train_raw_data.iloc[i,9]=0"
   ]
  },
  {
   "cell_type": "code",
   "execution_count": 10,
   "metadata": {},
   "outputs": [
    {
     "data": {
      "text/plain": [
       "Counter({0: 26993, 1: 3007})"
      ]
     },
     "execution_count": 10,
     "metadata": {},
     "output_type": "execute_result"
    }
   ],
   "source": [
    "Counter(customer_train_raw_data.Churn)"
   ]
  },
  {
   "cell_type": "code",
   "execution_count": 11,
   "metadata": {
    "collapsed": true
   },
   "outputs": [],
   "source": [
    "#customer_train_raw_data['Churn']=customer_train_raw_data['Churn'].astype(object)"
   ]
  },
  {
   "cell_type": "code",
   "execution_count": 12,
   "metadata": {},
   "outputs": [
    {
     "data": {
      "text/html": [
       "<div>\n",
       "<style>\n",
       "    .dataframe thead tr:only-child th {\n",
       "        text-align: right;\n",
       "    }\n",
       "\n",
       "    .dataframe thead th {\n",
       "        text-align: left;\n",
       "    }\n",
       "\n",
       "    .dataframe tbody tr th {\n",
       "        vertical-align: top;\n",
       "    }\n",
       "</style>\n",
       "<table border=\"1\" class=\"dataframe\">\n",
       "  <thead>\n",
       "    <tr style=\"text-align: right;\">\n",
       "      <th></th>\n",
       "      <th>Gender</th>\n",
       "      <th>Region</th>\n",
       "      <th>Channel</th>\n",
       "      <th>DOB</th>\n",
       "      <th>Card_registration_date</th>\n",
       "      <th>Last_visit</th>\n",
       "      <th>Amt_spent_in_last_year</th>\n",
       "      <th>Total_amt_spent</th>\n",
       "      <th>Total_visits</th>\n",
       "      <th>Churn</th>\n",
       "    </tr>\n",
       "  </thead>\n",
       "  <tbody>\n",
       "    <tr>\n",
       "      <th>0</th>\n",
       "      <td>Male</td>\n",
       "      <td>A</td>\n",
       "      <td>Both</td>\n",
       "      <td>1967/08/19</td>\n",
       "      <td>2009/01/21</td>\n",
       "      <td>2014/01/18</td>\n",
       "      <td>1187</td>\n",
       "      <td>19258</td>\n",
       "      <td>20</td>\n",
       "      <td>0</td>\n",
       "    </tr>\n",
       "    <tr>\n",
       "      <th>1</th>\n",
       "      <td>Female</td>\n",
       "      <td>B</td>\n",
       "      <td>Online</td>\n",
       "      <td>1988/04/25</td>\n",
       "      <td>2010/01/27</td>\n",
       "      <td>2014/04/09</td>\n",
       "      <td>1693</td>\n",
       "      <td>14900</td>\n",
       "      <td>20</td>\n",
       "      <td>0</td>\n",
       "    </tr>\n",
       "    <tr>\n",
       "      <th>2</th>\n",
       "      <td>Male</td>\n",
       "      <td>B</td>\n",
       "      <td>Both</td>\n",
       "      <td>1966/04/21</td>\n",
       "      <td>2008/11/08</td>\n",
       "      <td>2014/01/27</td>\n",
       "      <td>1366</td>\n",
       "      <td>17410</td>\n",
       "      <td>20</td>\n",
       "      <td>0</td>\n",
       "    </tr>\n",
       "    <tr>\n",
       "      <th>3</th>\n",
       "      <td>Male</td>\n",
       "      <td>A</td>\n",
       "      <td>Both</td>\n",
       "      <td>1981/01/08</td>\n",
       "      <td>2011/11/28</td>\n",
       "      <td>2014/05/11</td>\n",
       "      <td>1622</td>\n",
       "      <td>18578</td>\n",
       "      <td>12</td>\n",
       "      <td>0</td>\n",
       "    </tr>\n",
       "    <tr>\n",
       "      <th>4</th>\n",
       "      <td>Male</td>\n",
       "      <td>A</td>\n",
       "      <td>Both</td>\n",
       "      <td>1972/10/22</td>\n",
       "      <td>2011/06/13</td>\n",
       "      <td>2015/01/31</td>\n",
       "      <td>1357</td>\n",
       "      <td>19187</td>\n",
       "      <td>20</td>\n",
       "      <td>0</td>\n",
       "    </tr>\n",
       "  </tbody>\n",
       "</table>\n",
       "</div>"
      ],
      "text/plain": [
       "   Gender Region Channel         DOB Card_registration_date  Last_visit  \\\n",
       "0    Male      A    Both  1967/08/19             2009/01/21  2014/01/18   \n",
       "1  Female      B  Online  1988/04/25             2010/01/27  2014/04/09   \n",
       "2    Male      B    Both  1966/04/21             2008/11/08  2014/01/27   \n",
       "3    Male      A    Both  1981/01/08             2011/11/28  2014/05/11   \n",
       "4    Male      A    Both  1972/10/22             2011/06/13  2015/01/31   \n",
       "\n",
       "   Amt_spent_in_last_year  Total_amt_spent  Total_visits Churn  \n",
       "0                    1187            19258            20     0  \n",
       "1                    1693            14900            20     0  \n",
       "2                    1366            17410            20     0  \n",
       "3                    1622            18578            12     0  \n",
       "4                    1357            19187            20     0  "
      ]
     },
     "execution_count": 12,
     "metadata": {},
     "output_type": "execute_result"
    }
   ],
   "source": [
    "customer_train_raw_data.head()"
   ]
  },
  {
   "cell_type": "code",
   "execution_count": 13,
   "metadata": {
    "collapsed": true
   },
   "outputs": [],
   "source": [
    "#storing data for backup\n",
    "retail_train_data=customer_train_raw_data"
   ]
  },
  {
   "cell_type": "code",
   "execution_count": 14,
   "metadata": {
    "collapsed": true
   },
   "outputs": [],
   "source": [
    "#storing data for back up\n",
    "retail_test_data=customer_test_raw_data"
   ]
  },
  {
   "cell_type": "code",
   "execution_count": 15,
   "metadata": {
    "collapsed": true
   },
   "outputs": [],
   "source": [
    "#assigning dummy variables for gender i.e. categorical variable\n",
    "retail_train_data.Gender=pd.get_dummies(retail_train_data.Gender)"
   ]
  },
  {
   "cell_type": "code",
   "execution_count": 16,
   "metadata": {
    "collapsed": true
   },
   "outputs": [],
   "source": [
    "#same for test data\n",
    "retail_test_data.Gender=pd.get_dummies(retail_test_data.Gender)"
   ]
  },
  {
   "cell_type": "code",
   "execution_count": 17,
   "metadata": {},
   "outputs": [
    {
     "data": {
      "text/plain": [
       "Counter({'Both': 15086, 'Offline': 3774, 'Online': 11140})"
      ]
     },
     "execution_count": 17,
     "metadata": {},
     "output_type": "execute_result"
    }
   ],
   "source": [
    "Counter(retail_train_data.Channel)"
   ]
  },
  {
   "cell_type": "code",
   "execution_count": 18,
   "metadata": {
    "collapsed": true
   },
   "outputs": [],
   "source": [
    "retail_train_data.Channel=pd.get_dummies(retail_train_data.Channel)"
   ]
  },
  {
   "cell_type": "code",
   "execution_count": 19,
   "metadata": {
    "collapsed": true
   },
   "outputs": [],
   "source": [
    "retail_test_data.Channel=pd.get_dummies(retail_test_data.Channel)"
   ]
  },
  {
   "cell_type": "code",
   "execution_count": 20,
   "metadata": {},
   "outputs": [
    {
     "data": {
      "text/html": [
       "<div>\n",
       "<style>\n",
       "    .dataframe thead tr:only-child th {\n",
       "        text-align: right;\n",
       "    }\n",
       "\n",
       "    .dataframe thead th {\n",
       "        text-align: left;\n",
       "    }\n",
       "\n",
       "    .dataframe tbody tr th {\n",
       "        vertical-align: top;\n",
       "    }\n",
       "</style>\n",
       "<table border=\"1\" class=\"dataframe\">\n",
       "  <thead>\n",
       "    <tr style=\"text-align: right;\">\n",
       "      <th></th>\n",
       "      <th>Gender</th>\n",
       "      <th>Region</th>\n",
       "      <th>Channel</th>\n",
       "      <th>DOB</th>\n",
       "      <th>Card_registration_date</th>\n",
       "      <th>Last_visit</th>\n",
       "      <th>Amt_spent_in_last_year</th>\n",
       "      <th>Total_amt_spent</th>\n",
       "      <th>Total_visits</th>\n",
       "      <th>Churn</th>\n",
       "    </tr>\n",
       "  </thead>\n",
       "  <tbody>\n",
       "    <tr>\n",
       "      <th>0</th>\n",
       "      <td>0</td>\n",
       "      <td>A</td>\n",
       "      <td>1</td>\n",
       "      <td>1967/08/19</td>\n",
       "      <td>2009/01/21</td>\n",
       "      <td>2014/01/18</td>\n",
       "      <td>1187</td>\n",
       "      <td>19258</td>\n",
       "      <td>20</td>\n",
       "      <td>0</td>\n",
       "    </tr>\n",
       "    <tr>\n",
       "      <th>1</th>\n",
       "      <td>1</td>\n",
       "      <td>B</td>\n",
       "      <td>0</td>\n",
       "      <td>1988/04/25</td>\n",
       "      <td>2010/01/27</td>\n",
       "      <td>2014/04/09</td>\n",
       "      <td>1693</td>\n",
       "      <td>14900</td>\n",
       "      <td>20</td>\n",
       "      <td>0</td>\n",
       "    </tr>\n",
       "    <tr>\n",
       "      <th>2</th>\n",
       "      <td>0</td>\n",
       "      <td>B</td>\n",
       "      <td>1</td>\n",
       "      <td>1966/04/21</td>\n",
       "      <td>2008/11/08</td>\n",
       "      <td>2014/01/27</td>\n",
       "      <td>1366</td>\n",
       "      <td>17410</td>\n",
       "      <td>20</td>\n",
       "      <td>0</td>\n",
       "    </tr>\n",
       "    <tr>\n",
       "      <th>3</th>\n",
       "      <td>0</td>\n",
       "      <td>A</td>\n",
       "      <td>1</td>\n",
       "      <td>1981/01/08</td>\n",
       "      <td>2011/11/28</td>\n",
       "      <td>2014/05/11</td>\n",
       "      <td>1622</td>\n",
       "      <td>18578</td>\n",
       "      <td>12</td>\n",
       "      <td>0</td>\n",
       "    </tr>\n",
       "    <tr>\n",
       "      <th>4</th>\n",
       "      <td>0</td>\n",
       "      <td>A</td>\n",
       "      <td>1</td>\n",
       "      <td>1972/10/22</td>\n",
       "      <td>2011/06/13</td>\n",
       "      <td>2015/01/31</td>\n",
       "      <td>1357</td>\n",
       "      <td>19187</td>\n",
       "      <td>20</td>\n",
       "      <td>0</td>\n",
       "    </tr>\n",
       "  </tbody>\n",
       "</table>\n",
       "</div>"
      ],
      "text/plain": [
       "   Gender Region  Channel         DOB Card_registration_date  Last_visit  \\\n",
       "0       0      A        1  1967/08/19             2009/01/21  2014/01/18   \n",
       "1       1      B        0  1988/04/25             2010/01/27  2014/04/09   \n",
       "2       0      B        1  1966/04/21             2008/11/08  2014/01/27   \n",
       "3       0      A        1  1981/01/08             2011/11/28  2014/05/11   \n",
       "4       0      A        1  1972/10/22             2011/06/13  2015/01/31   \n",
       "\n",
       "   Amt_spent_in_last_year  Total_amt_spent  Total_visits Churn  \n",
       "0                    1187            19258            20     0  \n",
       "1                    1693            14900            20     0  \n",
       "2                    1366            17410            20     0  \n",
       "3                    1622            18578            12     0  \n",
       "4                    1357            19187            20     0  "
      ]
     },
     "execution_count": 20,
     "metadata": {},
     "output_type": "execute_result"
    }
   ],
   "source": [
    "retail_train_data.head()"
   ]
  },
  {
   "cell_type": "code",
   "execution_count": 21,
   "metadata": {
    "collapsed": true
   },
   "outputs": [],
   "source": [
    "#dummies\n",
    "retail_train_data.Region=pd.get_dummies(retail_train_data.Region)"
   ]
  },
  {
   "cell_type": "code",
   "execution_count": 22,
   "metadata": {
    "collapsed": true
   },
   "outputs": [],
   "source": [
    "retail_test_data.Region=pd.get_dummies(retail_test_data.Region)"
   ]
  },
  {
   "cell_type": "code",
   "execution_count": 23,
   "metadata": {},
   "outputs": [
    {
     "data": {
      "text/html": [
       "<div>\n",
       "<style>\n",
       "    .dataframe thead tr:only-child th {\n",
       "        text-align: right;\n",
       "    }\n",
       "\n",
       "    .dataframe thead th {\n",
       "        text-align: left;\n",
       "    }\n",
       "\n",
       "    .dataframe tbody tr th {\n",
       "        vertical-align: top;\n",
       "    }\n",
       "</style>\n",
       "<table border=\"1\" class=\"dataframe\">\n",
       "  <thead>\n",
       "    <tr style=\"text-align: right;\">\n",
       "      <th></th>\n",
       "      <th>Gender</th>\n",
       "      <th>Region</th>\n",
       "      <th>Channel</th>\n",
       "      <th>DOB</th>\n",
       "      <th>Card_registration_date</th>\n",
       "      <th>Last_visit</th>\n",
       "      <th>Amt_spent_in_last_year</th>\n",
       "      <th>Total_amt_spent</th>\n",
       "      <th>Total_visits</th>\n",
       "      <th>Churn</th>\n",
       "    </tr>\n",
       "  </thead>\n",
       "  <tbody>\n",
       "    <tr>\n",
       "      <th>29995</th>\n",
       "      <td>0</td>\n",
       "      <td>1</td>\n",
       "      <td>0</td>\n",
       "      <td>1970/11/23</td>\n",
       "      <td>2011/07/10</td>\n",
       "      <td>2014/12/17</td>\n",
       "      <td>1666</td>\n",
       "      <td>26505</td>\n",
       "      <td>20</td>\n",
       "      <td>0</td>\n",
       "    </tr>\n",
       "    <tr>\n",
       "      <th>29996</th>\n",
       "      <td>1</td>\n",
       "      <td>1</td>\n",
       "      <td>0</td>\n",
       "      <td>1980/01/03</td>\n",
       "      <td>2008/08/16</td>\n",
       "      <td>2014/10/09</td>\n",
       "      <td>1508</td>\n",
       "      <td>21039</td>\n",
       "      <td>18</td>\n",
       "      <td>0</td>\n",
       "    </tr>\n",
       "    <tr>\n",
       "      <th>29997</th>\n",
       "      <td>1</td>\n",
       "      <td>0</td>\n",
       "      <td>0</td>\n",
       "      <td>1988/05/31</td>\n",
       "      <td>2008/01/07</td>\n",
       "      <td>2014/03/12</td>\n",
       "      <td>1633</td>\n",
       "      <td>18432</td>\n",
       "      <td>20</td>\n",
       "      <td>1</td>\n",
       "    </tr>\n",
       "    <tr>\n",
       "      <th>29998</th>\n",
       "      <td>0</td>\n",
       "      <td>0</td>\n",
       "      <td>1</td>\n",
       "      <td>1986/06/06</td>\n",
       "      <td>2008/04/03</td>\n",
       "      <td>2014/01/19</td>\n",
       "      <td>1409</td>\n",
       "      <td>15393</td>\n",
       "      <td>12</td>\n",
       "      <td>0</td>\n",
       "    </tr>\n",
       "    <tr>\n",
       "      <th>29999</th>\n",
       "      <td>1</td>\n",
       "      <td>0</td>\n",
       "      <td>1</td>\n",
       "      <td>1979/02/01</td>\n",
       "      <td>2010/04/17</td>\n",
       "      <td>2014/09/08</td>\n",
       "      <td>1435</td>\n",
       "      <td>16748</td>\n",
       "      <td>8</td>\n",
       "      <td>0</td>\n",
       "    </tr>\n",
       "  </tbody>\n",
       "</table>\n",
       "</div>"
      ],
      "text/plain": [
       "       Gender  Region  Channel         DOB Card_registration_date  Last_visit  \\\n",
       "29995       0       1        0  1970/11/23             2011/07/10  2014/12/17   \n",
       "29996       1       1        0  1980/01/03             2008/08/16  2014/10/09   \n",
       "29997       1       0        0  1988/05/31             2008/01/07  2014/03/12   \n",
       "29998       0       0        1  1986/06/06             2008/04/03  2014/01/19   \n",
       "29999       1       0        1  1979/02/01             2010/04/17  2014/09/08   \n",
       "\n",
       "       Amt_spent_in_last_year  Total_amt_spent  Total_visits Churn  \n",
       "29995                    1666            26505            20     0  \n",
       "29996                    1508            21039            18     0  \n",
       "29997                    1633            18432            20     1  \n",
       "29998                    1409            15393            12     0  \n",
       "29999                    1435            16748             8     0  "
      ]
     },
     "execution_count": 23,
     "metadata": {},
     "output_type": "execute_result"
    }
   ],
   "source": [
    "retail_train_data.tail()"
   ]
  },
  {
   "cell_type": "code",
   "execution_count": 24,
   "metadata": {
    "collapsed": true
   },
   "outputs": [],
   "source": [
    "from datetime import datetime"
   ]
  },
  {
   "cell_type": "code",
   "execution_count": 25,
   "metadata": {
    "collapsed": true
   },
   "outputs": [],
   "source": [
    "#creating an empty column called duration\n",
    "retail_train_data['duration'] = np.nan"
   ]
  },
  {
   "cell_type": "code",
   "execution_count": 26,
   "metadata": {},
   "outputs": [
    {
     "data": {
      "text/html": [
       "<div>\n",
       "<style>\n",
       "    .dataframe thead tr:only-child th {\n",
       "        text-align: right;\n",
       "    }\n",
       "\n",
       "    .dataframe thead th {\n",
       "        text-align: left;\n",
       "    }\n",
       "\n",
       "    .dataframe tbody tr th {\n",
       "        vertical-align: top;\n",
       "    }\n",
       "</style>\n",
       "<table border=\"1\" class=\"dataframe\">\n",
       "  <thead>\n",
       "    <tr style=\"text-align: right;\">\n",
       "      <th></th>\n",
       "      <th>Gender</th>\n",
       "      <th>Region</th>\n",
       "      <th>Channel</th>\n",
       "      <th>DOB</th>\n",
       "      <th>Card_registration_date</th>\n",
       "      <th>Last_visit</th>\n",
       "      <th>Amt_spent_in_last_year</th>\n",
       "      <th>Total_amt_spent</th>\n",
       "      <th>Total_visits</th>\n",
       "      <th>Churn</th>\n",
       "      <th>duration</th>\n",
       "    </tr>\n",
       "  </thead>\n",
       "  <tbody>\n",
       "    <tr>\n",
       "      <th>0</th>\n",
       "      <td>0</td>\n",
       "      <td>1</td>\n",
       "      <td>1</td>\n",
       "      <td>1967/08/19</td>\n",
       "      <td>2009/01/21</td>\n",
       "      <td>2014/01/18</td>\n",
       "      <td>1187</td>\n",
       "      <td>19258</td>\n",
       "      <td>20</td>\n",
       "      <td>0</td>\n",
       "      <td>NaN</td>\n",
       "    </tr>\n",
       "    <tr>\n",
       "      <th>1</th>\n",
       "      <td>1</td>\n",
       "      <td>0</td>\n",
       "      <td>0</td>\n",
       "      <td>1988/04/25</td>\n",
       "      <td>2010/01/27</td>\n",
       "      <td>2014/04/09</td>\n",
       "      <td>1693</td>\n",
       "      <td>14900</td>\n",
       "      <td>20</td>\n",
       "      <td>0</td>\n",
       "      <td>NaN</td>\n",
       "    </tr>\n",
       "    <tr>\n",
       "      <th>2</th>\n",
       "      <td>0</td>\n",
       "      <td>0</td>\n",
       "      <td>1</td>\n",
       "      <td>1966/04/21</td>\n",
       "      <td>2008/11/08</td>\n",
       "      <td>2014/01/27</td>\n",
       "      <td>1366</td>\n",
       "      <td>17410</td>\n",
       "      <td>20</td>\n",
       "      <td>0</td>\n",
       "      <td>NaN</td>\n",
       "    </tr>\n",
       "    <tr>\n",
       "      <th>3</th>\n",
       "      <td>0</td>\n",
       "      <td>1</td>\n",
       "      <td>1</td>\n",
       "      <td>1981/01/08</td>\n",
       "      <td>2011/11/28</td>\n",
       "      <td>2014/05/11</td>\n",
       "      <td>1622</td>\n",
       "      <td>18578</td>\n",
       "      <td>12</td>\n",
       "      <td>0</td>\n",
       "      <td>NaN</td>\n",
       "    </tr>\n",
       "    <tr>\n",
       "      <th>4</th>\n",
       "      <td>0</td>\n",
       "      <td>1</td>\n",
       "      <td>1</td>\n",
       "      <td>1972/10/22</td>\n",
       "      <td>2011/06/13</td>\n",
       "      <td>2015/01/31</td>\n",
       "      <td>1357</td>\n",
       "      <td>19187</td>\n",
       "      <td>20</td>\n",
       "      <td>0</td>\n",
       "      <td>NaN</td>\n",
       "    </tr>\n",
       "  </tbody>\n",
       "</table>\n",
       "</div>"
      ],
      "text/plain": [
       "   Gender  Region  Channel         DOB Card_registration_date  Last_visit  \\\n",
       "0       0       1        1  1967/08/19             2009/01/21  2014/01/18   \n",
       "1       1       0        0  1988/04/25             2010/01/27  2014/04/09   \n",
       "2       0       0        1  1966/04/21             2008/11/08  2014/01/27   \n",
       "3       0       1        1  1981/01/08             2011/11/28  2014/05/11   \n",
       "4       0       1        1  1972/10/22             2011/06/13  2015/01/31   \n",
       "\n",
       "   Amt_spent_in_last_year  Total_amt_spent  Total_visits Churn  duration  \n",
       "0                    1187            19258            20     0       NaN  \n",
       "1                    1693            14900            20     0       NaN  \n",
       "2                    1366            17410            20     0       NaN  \n",
       "3                    1622            18578            12     0       NaN  \n",
       "4                    1357            19187            20     0       NaN  "
      ]
     },
     "execution_count": 26,
     "metadata": {},
     "output_type": "execute_result"
    }
   ],
   "source": [
    "retail_train_data.head()"
   ]
  },
  {
   "cell_type": "code",
   "execution_count": 27,
   "metadata": {
    "collapsed": true
   },
   "outputs": [],
   "source": [
    "#duration is the no. of days the customer acted as a customer\n",
    "#duration is found by substracting the card registration date from the last visit date\n",
    "date_format = \"%Y/%m/%d\"\n",
    "for i in range(0,30000):\n",
    "    a = datetime.strptime(retail_train_data.iloc[i,4], date_format)\n",
    "    b = datetime.strptime(retail_train_data.iloc[i,5], date_format)\n",
    "    delta=b-a\n",
    "    retail_train_data.iloc[i,10]=delta.days"
   ]
  },
  {
   "cell_type": "code",
   "execution_count": 28,
   "metadata": {
    "collapsed": true
   },
   "outputs": [],
   "source": [
    "retail_test_data['duration'] = np.nan"
   ]
  },
  {
   "cell_type": "code",
   "execution_count": 29,
   "metadata": {
    "collapsed": true
   },
   "outputs": [],
   "source": [
    "#same thing doing for test data set\n",
    "date_format = \"%Y/%m/%d\"\n",
    "for i in range(0,20000):\n",
    "    a = datetime.strptime(retail_test_data.iloc[i,5], date_format)\n",
    "    b = datetime.strptime(retail_test_data.iloc[i,6], date_format)\n",
    "    delta=b-a\n",
    "    retail_test_data.iloc[i,10]=delta.days"
   ]
  },
  {
   "cell_type": "code",
   "execution_count": 30,
   "metadata": {
    "collapsed": true
   },
   "outputs": [],
   "source": [
    "#creating an empty column as age\n",
    "retail_train_data['age'] = np.nan"
   ]
  },
  {
   "cell_type": "code",
   "execution_count": 31,
   "metadata": {},
   "outputs": [
    {
     "data": {
      "text/html": [
       "<div>\n",
       "<style>\n",
       "    .dataframe thead tr:only-child th {\n",
       "        text-align: right;\n",
       "    }\n",
       "\n",
       "    .dataframe thead th {\n",
       "        text-align: left;\n",
       "    }\n",
       "\n",
       "    .dataframe tbody tr th {\n",
       "        vertical-align: top;\n",
       "    }\n",
       "</style>\n",
       "<table border=\"1\" class=\"dataframe\">\n",
       "  <thead>\n",
       "    <tr style=\"text-align: right;\">\n",
       "      <th></th>\n",
       "      <th>Gender</th>\n",
       "      <th>Region</th>\n",
       "      <th>Channel</th>\n",
       "      <th>DOB</th>\n",
       "      <th>Card_registration_date</th>\n",
       "      <th>Last_visit</th>\n",
       "      <th>Amt_spent_in_last_year</th>\n",
       "      <th>Total_amt_spent</th>\n",
       "      <th>Total_visits</th>\n",
       "      <th>Churn</th>\n",
       "      <th>duration</th>\n",
       "      <th>age</th>\n",
       "    </tr>\n",
       "  </thead>\n",
       "  <tbody>\n",
       "    <tr>\n",
       "      <th>0</th>\n",
       "      <td>0</td>\n",
       "      <td>1</td>\n",
       "      <td>1</td>\n",
       "      <td>1967/08/19</td>\n",
       "      <td>2009/01/21</td>\n",
       "      <td>2014/01/18</td>\n",
       "      <td>1187</td>\n",
       "      <td>19258</td>\n",
       "      <td>20</td>\n",
       "      <td>0</td>\n",
       "      <td>1823.0</td>\n",
       "      <td>NaN</td>\n",
       "    </tr>\n",
       "    <tr>\n",
       "      <th>1</th>\n",
       "      <td>1</td>\n",
       "      <td>0</td>\n",
       "      <td>0</td>\n",
       "      <td>1988/04/25</td>\n",
       "      <td>2010/01/27</td>\n",
       "      <td>2014/04/09</td>\n",
       "      <td>1693</td>\n",
       "      <td>14900</td>\n",
       "      <td>20</td>\n",
       "      <td>0</td>\n",
       "      <td>1533.0</td>\n",
       "      <td>NaN</td>\n",
       "    </tr>\n",
       "    <tr>\n",
       "      <th>2</th>\n",
       "      <td>0</td>\n",
       "      <td>0</td>\n",
       "      <td>1</td>\n",
       "      <td>1966/04/21</td>\n",
       "      <td>2008/11/08</td>\n",
       "      <td>2014/01/27</td>\n",
       "      <td>1366</td>\n",
       "      <td>17410</td>\n",
       "      <td>20</td>\n",
       "      <td>0</td>\n",
       "      <td>1906.0</td>\n",
       "      <td>NaN</td>\n",
       "    </tr>\n",
       "    <tr>\n",
       "      <th>3</th>\n",
       "      <td>0</td>\n",
       "      <td>1</td>\n",
       "      <td>1</td>\n",
       "      <td>1981/01/08</td>\n",
       "      <td>2011/11/28</td>\n",
       "      <td>2014/05/11</td>\n",
       "      <td>1622</td>\n",
       "      <td>18578</td>\n",
       "      <td>12</td>\n",
       "      <td>0</td>\n",
       "      <td>895.0</td>\n",
       "      <td>NaN</td>\n",
       "    </tr>\n",
       "    <tr>\n",
       "      <th>4</th>\n",
       "      <td>0</td>\n",
       "      <td>1</td>\n",
       "      <td>1</td>\n",
       "      <td>1972/10/22</td>\n",
       "      <td>2011/06/13</td>\n",
       "      <td>2015/01/31</td>\n",
       "      <td>1357</td>\n",
       "      <td>19187</td>\n",
       "      <td>20</td>\n",
       "      <td>0</td>\n",
       "      <td>1328.0</td>\n",
       "      <td>NaN</td>\n",
       "    </tr>\n",
       "  </tbody>\n",
       "</table>\n",
       "</div>"
      ],
      "text/plain": [
       "   Gender  Region  Channel         DOB Card_registration_date  Last_visit  \\\n",
       "0       0       1        1  1967/08/19             2009/01/21  2014/01/18   \n",
       "1       1       0        0  1988/04/25             2010/01/27  2014/04/09   \n",
       "2       0       0        1  1966/04/21             2008/11/08  2014/01/27   \n",
       "3       0       1        1  1981/01/08             2011/11/28  2014/05/11   \n",
       "4       0       1        1  1972/10/22             2011/06/13  2015/01/31   \n",
       "\n",
       "   Amt_spent_in_last_year  Total_amt_spent  Total_visits Churn  duration  age  \n",
       "0                    1187            19258            20     0    1823.0  NaN  \n",
       "1                    1693            14900            20     0    1533.0  NaN  \n",
       "2                    1366            17410            20     0    1906.0  NaN  \n",
       "3                    1622            18578            12     0     895.0  NaN  \n",
       "4                    1357            19187            20     0    1328.0  NaN  "
      ]
     },
     "execution_count": 31,
     "metadata": {},
     "output_type": "execute_result"
    }
   ],
   "source": [
    "retail_train_data.head()"
   ]
  },
  {
   "cell_type": "code",
   "execution_count": 32,
   "metadata": {
    "collapsed": true
   },
   "outputs": [],
   "source": [
    "#the age can be found by substracting date of birth frim the current date\n",
    "date_format = \"%Y/%m/%d\"\n",
    "for i in range(0,30000):\n",
    "    a = datetime.strptime(retail_train_data.iloc[i,3], date_format)\n",
    "    b = datetime.strptime('2017/12/17', date_format)\n",
    "    delta=b-a\n",
    "    retail_train_data.iloc[i,11]=delta.days"
   ]
  },
  {
   "cell_type": "code",
   "execution_count": 33,
   "metadata": {
    "collapsed": true
   },
   "outputs": [],
   "source": [
    "retail_test_data['age'] = np.nan"
   ]
  },
  {
   "cell_type": "code",
   "execution_count": 34,
   "metadata": {},
   "outputs": [
    {
     "data": {
      "text/html": [
       "<div>\n",
       "<style>\n",
       "    .dataframe thead tr:only-child th {\n",
       "        text-align: right;\n",
       "    }\n",
       "\n",
       "    .dataframe thead th {\n",
       "        text-align: left;\n",
       "    }\n",
       "\n",
       "    .dataframe tbody tr th {\n",
       "        vertical-align: top;\n",
       "    }\n",
       "</style>\n",
       "<table border=\"1\" class=\"dataframe\">\n",
       "  <thead>\n",
       "    <tr style=\"text-align: right;\">\n",
       "      <th></th>\n",
       "      <th>Gender</th>\n",
       "      <th>Region</th>\n",
       "      <th>Channel</th>\n",
       "      <th>DOB</th>\n",
       "      <th>Card_registration_date</th>\n",
       "      <th>Last_visit</th>\n",
       "      <th>Amt_spent_in_last_year</th>\n",
       "      <th>Total_amt_spent</th>\n",
       "      <th>Total_visits</th>\n",
       "      <th>Churn</th>\n",
       "      <th>duration</th>\n",
       "      <th>age</th>\n",
       "    </tr>\n",
       "  </thead>\n",
       "  <tbody>\n",
       "    <tr>\n",
       "      <th>0</th>\n",
       "      <td>0</td>\n",
       "      <td>1</td>\n",
       "      <td>1</td>\n",
       "      <td>1967/08/19</td>\n",
       "      <td>2009/01/21</td>\n",
       "      <td>2014/01/18</td>\n",
       "      <td>1187</td>\n",
       "      <td>19258</td>\n",
       "      <td>20</td>\n",
       "      <td>0</td>\n",
       "      <td>1823.0</td>\n",
       "      <td>18383.0</td>\n",
       "    </tr>\n",
       "    <tr>\n",
       "      <th>1</th>\n",
       "      <td>1</td>\n",
       "      <td>0</td>\n",
       "      <td>0</td>\n",
       "      <td>1988/04/25</td>\n",
       "      <td>2010/01/27</td>\n",
       "      <td>2014/04/09</td>\n",
       "      <td>1693</td>\n",
       "      <td>14900</td>\n",
       "      <td>20</td>\n",
       "      <td>0</td>\n",
       "      <td>1533.0</td>\n",
       "      <td>10828.0</td>\n",
       "    </tr>\n",
       "    <tr>\n",
       "      <th>2</th>\n",
       "      <td>0</td>\n",
       "      <td>0</td>\n",
       "      <td>1</td>\n",
       "      <td>1966/04/21</td>\n",
       "      <td>2008/11/08</td>\n",
       "      <td>2014/01/27</td>\n",
       "      <td>1366</td>\n",
       "      <td>17410</td>\n",
       "      <td>20</td>\n",
       "      <td>0</td>\n",
       "      <td>1906.0</td>\n",
       "      <td>18868.0</td>\n",
       "    </tr>\n",
       "    <tr>\n",
       "      <th>3</th>\n",
       "      <td>0</td>\n",
       "      <td>1</td>\n",
       "      <td>1</td>\n",
       "      <td>1981/01/08</td>\n",
       "      <td>2011/11/28</td>\n",
       "      <td>2014/05/11</td>\n",
       "      <td>1622</td>\n",
       "      <td>18578</td>\n",
       "      <td>12</td>\n",
       "      <td>0</td>\n",
       "      <td>895.0</td>\n",
       "      <td>13492.0</td>\n",
       "    </tr>\n",
       "    <tr>\n",
       "      <th>4</th>\n",
       "      <td>0</td>\n",
       "      <td>1</td>\n",
       "      <td>1</td>\n",
       "      <td>1972/10/22</td>\n",
       "      <td>2011/06/13</td>\n",
       "      <td>2015/01/31</td>\n",
       "      <td>1357</td>\n",
       "      <td>19187</td>\n",
       "      <td>20</td>\n",
       "      <td>0</td>\n",
       "      <td>1328.0</td>\n",
       "      <td>16492.0</td>\n",
       "    </tr>\n",
       "  </tbody>\n",
       "</table>\n",
       "</div>"
      ],
      "text/plain": [
       "   Gender  Region  Channel         DOB Card_registration_date  Last_visit  \\\n",
       "0       0       1        1  1967/08/19             2009/01/21  2014/01/18   \n",
       "1       1       0        0  1988/04/25             2010/01/27  2014/04/09   \n",
       "2       0       0        1  1966/04/21             2008/11/08  2014/01/27   \n",
       "3       0       1        1  1981/01/08             2011/11/28  2014/05/11   \n",
       "4       0       1        1  1972/10/22             2011/06/13  2015/01/31   \n",
       "\n",
       "   Amt_spent_in_last_year  Total_amt_spent  Total_visits Churn  duration  \\\n",
       "0                    1187            19258            20     0    1823.0   \n",
       "1                    1693            14900            20     0    1533.0   \n",
       "2                    1366            17410            20     0    1906.0   \n",
       "3                    1622            18578            12     0     895.0   \n",
       "4                    1357            19187            20     0    1328.0   \n",
       "\n",
       "       age  \n",
       "0  18383.0  \n",
       "1  10828.0  \n",
       "2  18868.0  \n",
       "3  13492.0  \n",
       "4  16492.0  "
      ]
     },
     "execution_count": 34,
     "metadata": {},
     "output_type": "execute_result"
    }
   ],
   "source": [
    "retail_train_data.head()"
   ]
  },
  {
   "cell_type": "code",
   "execution_count": 35,
   "metadata": {
    "collapsed": true
   },
   "outputs": [],
   "source": [
    "#same goes for test set\n",
    "date_format = \"%Y/%m/%d\"\n",
    "for i in range(0,20000):\n",
    "    a = datetime.strptime(retail_test_data.iloc[i,4], date_format)\n",
    "    b = datetime.strptime('2017/12/17', date_format)\n",
    "    delta=b-a\n",
    "    retail_test_data.iloc[i,11]=delta.days"
   ]
  },
  {
   "cell_type": "code",
   "execution_count": 36,
   "metadata": {},
   "outputs": [
    {
     "data": {
      "text/html": [
       "<div>\n",
       "<style>\n",
       "    .dataframe thead tr:only-child th {\n",
       "        text-align: right;\n",
       "    }\n",
       "\n",
       "    .dataframe thead th {\n",
       "        text-align: left;\n",
       "    }\n",
       "\n",
       "    .dataframe tbody tr th {\n",
       "        vertical-align: top;\n",
       "    }\n",
       "</style>\n",
       "<table border=\"1\" class=\"dataframe\">\n",
       "  <thead>\n",
       "    <tr style=\"text-align: right;\">\n",
       "      <th></th>\n",
       "      <th>ID</th>\n",
       "      <th>Gender</th>\n",
       "      <th>Region</th>\n",
       "      <th>Channel</th>\n",
       "      <th>DOB</th>\n",
       "      <th>Card_registration_date</th>\n",
       "      <th>Last_visit</th>\n",
       "      <th>Amt_spent_in_last_year</th>\n",
       "      <th>Total_amt_spent</th>\n",
       "      <th>Total_visits</th>\n",
       "      <th>duration</th>\n",
       "      <th>age</th>\n",
       "    </tr>\n",
       "  </thead>\n",
       "  <tbody>\n",
       "    <tr>\n",
       "      <th>0</th>\n",
       "      <td>1</td>\n",
       "      <td>1</td>\n",
       "      <td>0</td>\n",
       "      <td>0</td>\n",
       "      <td>1970/10/01</td>\n",
       "      <td>2010/10/07</td>\n",
       "      <td>2014/03/02</td>\n",
       "      <td>1594</td>\n",
       "      <td>18202</td>\n",
       "      <td>7</td>\n",
       "      <td>1242.0</td>\n",
       "      <td>17244.0</td>\n",
       "    </tr>\n",
       "    <tr>\n",
       "      <th>1</th>\n",
       "      <td>2</td>\n",
       "      <td>1</td>\n",
       "      <td>1</td>\n",
       "      <td>1</td>\n",
       "      <td>1980/07/16</td>\n",
       "      <td>2010/06/18</td>\n",
       "      <td>2014/11/24</td>\n",
       "      <td>1639</td>\n",
       "      <td>13000</td>\n",
       "      <td>20</td>\n",
       "      <td>1620.0</td>\n",
       "      <td>13668.0</td>\n",
       "    </tr>\n",
       "    <tr>\n",
       "      <th>2</th>\n",
       "      <td>3</td>\n",
       "      <td>1</td>\n",
       "      <td>1</td>\n",
       "      <td>0</td>\n",
       "      <td>1966/10/20</td>\n",
       "      <td>2008/03/10</td>\n",
       "      <td>2014/10/12</td>\n",
       "      <td>1840</td>\n",
       "      <td>18424</td>\n",
       "      <td>20</td>\n",
       "      <td>2407.0</td>\n",
       "      <td>18686.0</td>\n",
       "    </tr>\n",
       "    <tr>\n",
       "      <th>3</th>\n",
       "      <td>4</td>\n",
       "      <td>0</td>\n",
       "      <td>1</td>\n",
       "      <td>1</td>\n",
       "      <td>1967/10/15</td>\n",
       "      <td>2008/05/10</td>\n",
       "      <td>2014/06/03</td>\n",
       "      <td>1859</td>\n",
       "      <td>21178</td>\n",
       "      <td>9</td>\n",
       "      <td>2215.0</td>\n",
       "      <td>18326.0</td>\n",
       "    </tr>\n",
       "    <tr>\n",
       "      <th>4</th>\n",
       "      <td>5</td>\n",
       "      <td>0</td>\n",
       "      <td>1</td>\n",
       "      <td>0</td>\n",
       "      <td>1983/10/12</td>\n",
       "      <td>2011/12/06</td>\n",
       "      <td>2014/10/04</td>\n",
       "      <td>1609</td>\n",
       "      <td>19471</td>\n",
       "      <td>20</td>\n",
       "      <td>1033.0</td>\n",
       "      <td>12485.0</td>\n",
       "    </tr>\n",
       "  </tbody>\n",
       "</table>\n",
       "</div>"
      ],
      "text/plain": [
       "   ID  Gender  Region  Channel         DOB Card_registration_date  Last_visit  \\\n",
       "0   1       1       0        0  1970/10/01             2010/10/07  2014/03/02   \n",
       "1   2       1       1        1  1980/07/16             2010/06/18  2014/11/24   \n",
       "2   3       1       1        0  1966/10/20             2008/03/10  2014/10/12   \n",
       "3   4       0       1        1  1967/10/15             2008/05/10  2014/06/03   \n",
       "4   5       0       1        0  1983/10/12             2011/12/06  2014/10/04   \n",
       "\n",
       "   Amt_spent_in_last_year  Total_amt_spent  Total_visits  duration      age  \n",
       "0                    1594            18202             7    1242.0  17244.0  \n",
       "1                    1639            13000            20    1620.0  13668.0  \n",
       "2                    1840            18424            20    2407.0  18686.0  \n",
       "3                    1859            21178             9    2215.0  18326.0  \n",
       "4                    1609            19471            20    1033.0  12485.0  "
      ]
     },
     "execution_count": 36,
     "metadata": {},
     "output_type": "execute_result"
    }
   ],
   "source": [
    "retail_test_data.head()"
   ]
  },
  {
   "cell_type": "code",
   "execution_count": 37,
   "metadata": {
    "collapsed": true
   },
   "outputs": [],
   "source": [
    "#now DOB, card registration date and Last visit date are not required, So deleting them\n",
    "train_data=retail_train_data.drop('DOB',1)"
   ]
  },
  {
   "cell_type": "code",
   "execution_count": 38,
   "metadata": {
    "collapsed": true
   },
   "outputs": [],
   "source": [
    "train_data=train_data.drop('Card_registration_date',1)"
   ]
  },
  {
   "cell_type": "code",
   "execution_count": 39,
   "metadata": {
    "collapsed": true
   },
   "outputs": [],
   "source": [
    "train_data=train_data.drop('Last_visit',1)"
   ]
  },
  {
   "cell_type": "code",
   "execution_count": 40,
   "metadata": {},
   "outputs": [
    {
     "data": {
      "text/html": [
       "<div>\n",
       "<style>\n",
       "    .dataframe thead tr:only-child th {\n",
       "        text-align: right;\n",
       "    }\n",
       "\n",
       "    .dataframe thead th {\n",
       "        text-align: left;\n",
       "    }\n",
       "\n",
       "    .dataframe tbody tr th {\n",
       "        vertical-align: top;\n",
       "    }\n",
       "</style>\n",
       "<table border=\"1\" class=\"dataframe\">\n",
       "  <thead>\n",
       "    <tr style=\"text-align: right;\">\n",
       "      <th></th>\n",
       "      <th>Gender</th>\n",
       "      <th>Region</th>\n",
       "      <th>Channel</th>\n",
       "      <th>Amt_spent_in_last_year</th>\n",
       "      <th>Total_amt_spent</th>\n",
       "      <th>Total_visits</th>\n",
       "      <th>Churn</th>\n",
       "      <th>duration</th>\n",
       "      <th>age</th>\n",
       "    </tr>\n",
       "  </thead>\n",
       "  <tbody>\n",
       "    <tr>\n",
       "      <th>0</th>\n",
       "      <td>0</td>\n",
       "      <td>1</td>\n",
       "      <td>1</td>\n",
       "      <td>1187</td>\n",
       "      <td>19258</td>\n",
       "      <td>20</td>\n",
       "      <td>0</td>\n",
       "      <td>1823.0</td>\n",
       "      <td>18383.0</td>\n",
       "    </tr>\n",
       "    <tr>\n",
       "      <th>1</th>\n",
       "      <td>1</td>\n",
       "      <td>0</td>\n",
       "      <td>0</td>\n",
       "      <td>1693</td>\n",
       "      <td>14900</td>\n",
       "      <td>20</td>\n",
       "      <td>0</td>\n",
       "      <td>1533.0</td>\n",
       "      <td>10828.0</td>\n",
       "    </tr>\n",
       "    <tr>\n",
       "      <th>2</th>\n",
       "      <td>0</td>\n",
       "      <td>0</td>\n",
       "      <td>1</td>\n",
       "      <td>1366</td>\n",
       "      <td>17410</td>\n",
       "      <td>20</td>\n",
       "      <td>0</td>\n",
       "      <td>1906.0</td>\n",
       "      <td>18868.0</td>\n",
       "    </tr>\n",
       "    <tr>\n",
       "      <th>3</th>\n",
       "      <td>0</td>\n",
       "      <td>1</td>\n",
       "      <td>1</td>\n",
       "      <td>1622</td>\n",
       "      <td>18578</td>\n",
       "      <td>12</td>\n",
       "      <td>0</td>\n",
       "      <td>895.0</td>\n",
       "      <td>13492.0</td>\n",
       "    </tr>\n",
       "    <tr>\n",
       "      <th>4</th>\n",
       "      <td>0</td>\n",
       "      <td>1</td>\n",
       "      <td>1</td>\n",
       "      <td>1357</td>\n",
       "      <td>19187</td>\n",
       "      <td>20</td>\n",
       "      <td>0</td>\n",
       "      <td>1328.0</td>\n",
       "      <td>16492.0</td>\n",
       "    </tr>\n",
       "  </tbody>\n",
       "</table>\n",
       "</div>"
      ],
      "text/plain": [
       "   Gender  Region  Channel  Amt_spent_in_last_year  Total_amt_spent  \\\n",
       "0       0       1        1                    1187            19258   \n",
       "1       1       0        0                    1693            14900   \n",
       "2       0       0        1                    1366            17410   \n",
       "3       0       1        1                    1622            18578   \n",
       "4       0       1        1                    1357            19187   \n",
       "\n",
       "   Total_visits Churn  duration      age  \n",
       "0            20     0    1823.0  18383.0  \n",
       "1            20     0    1533.0  10828.0  \n",
       "2            20     0    1906.0  18868.0  \n",
       "3            12     0     895.0  13492.0  \n",
       "4            20     0    1328.0  16492.0  "
      ]
     },
     "execution_count": 40,
     "metadata": {},
     "output_type": "execute_result"
    }
   ],
   "source": [
    "train_data.head()"
   ]
  },
  {
   "cell_type": "code",
   "execution_count": 41,
   "metadata": {
    "collapsed": true
   },
   "outputs": [],
   "source": [
    "#same thing for test data\n",
    "retail_test_data=retail_test_data.drop('DOB',1)"
   ]
  },
  {
   "cell_type": "code",
   "execution_count": 42,
   "metadata": {},
   "outputs": [],
   "source": [
    "retail_test_data=retail_test_data.drop('ID',1)"
   ]
  },
  {
   "cell_type": "code",
   "execution_count": 43,
   "metadata": {
    "collapsed": true
   },
   "outputs": [],
   "source": [
    "retail_test_data=retail_test_data.drop('Card_registration_date',1)"
   ]
  },
  {
   "cell_type": "code",
   "execution_count": 44,
   "metadata": {
    "collapsed": true
   },
   "outputs": [],
   "source": [
    "retail_test_data=retail_test_data.drop('Last_visit',1)"
   ]
  },
  {
   "cell_type": "code",
   "execution_count": 45,
   "metadata": {},
   "outputs": [
    {
     "data": {
      "text/html": [
       "<div>\n",
       "<style>\n",
       "    .dataframe thead tr:only-child th {\n",
       "        text-align: right;\n",
       "    }\n",
       "\n",
       "    .dataframe thead th {\n",
       "        text-align: left;\n",
       "    }\n",
       "\n",
       "    .dataframe tbody tr th {\n",
       "        vertical-align: top;\n",
       "    }\n",
       "</style>\n",
       "<table border=\"1\" class=\"dataframe\">\n",
       "  <thead>\n",
       "    <tr style=\"text-align: right;\">\n",
       "      <th></th>\n",
       "      <th>Gender</th>\n",
       "      <th>Region</th>\n",
       "      <th>Channel</th>\n",
       "      <th>Amt_spent_in_last_year</th>\n",
       "      <th>Total_amt_spent</th>\n",
       "      <th>Total_visits</th>\n",
       "      <th>duration</th>\n",
       "      <th>age</th>\n",
       "    </tr>\n",
       "  </thead>\n",
       "  <tbody>\n",
       "    <tr>\n",
       "      <th>0</th>\n",
       "      <td>1</td>\n",
       "      <td>0</td>\n",
       "      <td>0</td>\n",
       "      <td>1594</td>\n",
       "      <td>18202</td>\n",
       "      <td>7</td>\n",
       "      <td>1242.0</td>\n",
       "      <td>17244.0</td>\n",
       "    </tr>\n",
       "    <tr>\n",
       "      <th>1</th>\n",
       "      <td>1</td>\n",
       "      <td>1</td>\n",
       "      <td>1</td>\n",
       "      <td>1639</td>\n",
       "      <td>13000</td>\n",
       "      <td>20</td>\n",
       "      <td>1620.0</td>\n",
       "      <td>13668.0</td>\n",
       "    </tr>\n",
       "    <tr>\n",
       "      <th>2</th>\n",
       "      <td>1</td>\n",
       "      <td>1</td>\n",
       "      <td>0</td>\n",
       "      <td>1840</td>\n",
       "      <td>18424</td>\n",
       "      <td>20</td>\n",
       "      <td>2407.0</td>\n",
       "      <td>18686.0</td>\n",
       "    </tr>\n",
       "    <tr>\n",
       "      <th>3</th>\n",
       "      <td>0</td>\n",
       "      <td>1</td>\n",
       "      <td>1</td>\n",
       "      <td>1859</td>\n",
       "      <td>21178</td>\n",
       "      <td>9</td>\n",
       "      <td>2215.0</td>\n",
       "      <td>18326.0</td>\n",
       "    </tr>\n",
       "    <tr>\n",
       "      <th>4</th>\n",
       "      <td>0</td>\n",
       "      <td>1</td>\n",
       "      <td>0</td>\n",
       "      <td>1609</td>\n",
       "      <td>19471</td>\n",
       "      <td>20</td>\n",
       "      <td>1033.0</td>\n",
       "      <td>12485.0</td>\n",
       "    </tr>\n",
       "  </tbody>\n",
       "</table>\n",
       "</div>"
      ],
      "text/plain": [
       "   Gender  Region  Channel  Amt_spent_in_last_year  Total_amt_spent  \\\n",
       "0       1       0        0                    1594            18202   \n",
       "1       1       1        1                    1639            13000   \n",
       "2       1       1        0                    1840            18424   \n",
       "3       0       1        1                    1859            21178   \n",
       "4       0       1        0                    1609            19471   \n",
       "\n",
       "   Total_visits  duration      age  \n",
       "0             7    1242.0  17244.0  \n",
       "1            20    1620.0  13668.0  \n",
       "2            20    2407.0  18686.0  \n",
       "3             9    2215.0  18326.0  \n",
       "4            20    1033.0  12485.0  "
      ]
     },
     "execution_count": 45,
     "metadata": {},
     "output_type": "execute_result"
    }
   ],
   "source": [
    "retail_test_data.head()"
   ]
  },
  {
   "cell_type": "code",
   "execution_count": 46,
   "metadata": {},
   "outputs": [
    {
     "data": {
      "text/html": [
       "<div>\n",
       "<style>\n",
       "    .dataframe thead tr:only-child th {\n",
       "        text-align: right;\n",
       "    }\n",
       "\n",
       "    .dataframe thead th {\n",
       "        text-align: left;\n",
       "    }\n",
       "\n",
       "    .dataframe tbody tr th {\n",
       "        vertical-align: top;\n",
       "    }\n",
       "</style>\n",
       "<table border=\"1\" class=\"dataframe\">\n",
       "  <thead>\n",
       "    <tr style=\"text-align: right;\">\n",
       "      <th></th>\n",
       "      <th>Gender</th>\n",
       "      <th>Region</th>\n",
       "      <th>Channel</th>\n",
       "      <th>Amt_spent_in_last_year</th>\n",
       "      <th>Total_amt_spent</th>\n",
       "      <th>Total_visits</th>\n",
       "      <th>Churn</th>\n",
       "      <th>duration</th>\n",
       "      <th>age</th>\n",
       "    </tr>\n",
       "  </thead>\n",
       "  <tbody>\n",
       "    <tr>\n",
       "      <th>0</th>\n",
       "      <td>0</td>\n",
       "      <td>1</td>\n",
       "      <td>1</td>\n",
       "      <td>1187</td>\n",
       "      <td>19258</td>\n",
       "      <td>20</td>\n",
       "      <td>0</td>\n",
       "      <td>1823.0</td>\n",
       "      <td>18383.0</td>\n",
       "    </tr>\n",
       "    <tr>\n",
       "      <th>1</th>\n",
       "      <td>1</td>\n",
       "      <td>0</td>\n",
       "      <td>0</td>\n",
       "      <td>1693</td>\n",
       "      <td>14900</td>\n",
       "      <td>20</td>\n",
       "      <td>0</td>\n",
       "      <td>1533.0</td>\n",
       "      <td>10828.0</td>\n",
       "    </tr>\n",
       "    <tr>\n",
       "      <th>2</th>\n",
       "      <td>0</td>\n",
       "      <td>0</td>\n",
       "      <td>1</td>\n",
       "      <td>1366</td>\n",
       "      <td>17410</td>\n",
       "      <td>20</td>\n",
       "      <td>0</td>\n",
       "      <td>1906.0</td>\n",
       "      <td>18868.0</td>\n",
       "    </tr>\n",
       "    <tr>\n",
       "      <th>3</th>\n",
       "      <td>0</td>\n",
       "      <td>1</td>\n",
       "      <td>1</td>\n",
       "      <td>1622</td>\n",
       "      <td>18578</td>\n",
       "      <td>12</td>\n",
       "      <td>0</td>\n",
       "      <td>895.0</td>\n",
       "      <td>13492.0</td>\n",
       "    </tr>\n",
       "    <tr>\n",
       "      <th>4</th>\n",
       "      <td>0</td>\n",
       "      <td>1</td>\n",
       "      <td>1</td>\n",
       "      <td>1357</td>\n",
       "      <td>19187</td>\n",
       "      <td>20</td>\n",
       "      <td>0</td>\n",
       "      <td>1328.0</td>\n",
       "      <td>16492.0</td>\n",
       "    </tr>\n",
       "  </tbody>\n",
       "</table>\n",
       "</div>"
      ],
      "text/plain": [
       "   Gender  Region  Channel  Amt_spent_in_last_year  Total_amt_spent  \\\n",
       "0       0       1        1                    1187            19258   \n",
       "1       1       0        0                    1693            14900   \n",
       "2       0       0        1                    1366            17410   \n",
       "3       0       1        1                    1622            18578   \n",
       "4       0       1        1                    1357            19187   \n",
       "\n",
       "   Total_visits Churn  duration      age  \n",
       "0            20     0    1823.0  18383.0  \n",
       "1            20     0    1533.0  10828.0  \n",
       "2            20     0    1906.0  18868.0  \n",
       "3            12     0     895.0  13492.0  \n",
       "4            20     0    1328.0  16492.0  "
      ]
     },
     "execution_count": 46,
     "metadata": {},
     "output_type": "execute_result"
    }
   ],
   "source": [
    "train_data.head()"
   ]
  },
  {
   "cell_type": "code",
   "execution_count": 47,
   "metadata": {
    "collapsed": true
   },
   "outputs": [],
   "source": [
    "#importing libraries for data normalization\n",
    "from sklearn import preprocessing"
   ]
  },
  {
   "cell_type": "code",
   "execution_count": 48,
   "metadata": {
    "collapsed": true
   },
   "outputs": [],
   "source": [
    "#importing libraries for splitting the datset into train and test\n",
    "from sklearn.model_selection import train_test_split"
   ]
  },
  {
   "cell_type": "code",
   "execution_count": 49,
   "metadata": {},
   "outputs": [
    {
     "data": {
      "text/html": [
       "<div>\n",
       "<style>\n",
       "    .dataframe thead tr:only-child th {\n",
       "        text-align: right;\n",
       "    }\n",
       "\n",
       "    .dataframe thead th {\n",
       "        text-align: left;\n",
       "    }\n",
       "\n",
       "    .dataframe tbody tr th {\n",
       "        vertical-align: top;\n",
       "    }\n",
       "</style>\n",
       "<table border=\"1\" class=\"dataframe\">\n",
       "  <thead>\n",
       "    <tr style=\"text-align: right;\">\n",
       "      <th></th>\n",
       "      <th>Gender</th>\n",
       "      <th>Region</th>\n",
       "      <th>Channel</th>\n",
       "      <th>Amt_spent_in_last_year</th>\n",
       "      <th>Total_amt_spent</th>\n",
       "      <th>Total_visits</th>\n",
       "      <th>Churn</th>\n",
       "      <th>duration</th>\n",
       "      <th>age</th>\n",
       "    </tr>\n",
       "  </thead>\n",
       "  <tbody>\n",
       "    <tr>\n",
       "      <th>0</th>\n",
       "      <td>0</td>\n",
       "      <td>1</td>\n",
       "      <td>1</td>\n",
       "      <td>1187</td>\n",
       "      <td>19258</td>\n",
       "      <td>20</td>\n",
       "      <td>0</td>\n",
       "      <td>1823.0</td>\n",
       "      <td>18383.0</td>\n",
       "    </tr>\n",
       "    <tr>\n",
       "      <th>1</th>\n",
       "      <td>1</td>\n",
       "      <td>0</td>\n",
       "      <td>0</td>\n",
       "      <td>1693</td>\n",
       "      <td>14900</td>\n",
       "      <td>20</td>\n",
       "      <td>0</td>\n",
       "      <td>1533.0</td>\n",
       "      <td>10828.0</td>\n",
       "    </tr>\n",
       "    <tr>\n",
       "      <th>2</th>\n",
       "      <td>0</td>\n",
       "      <td>0</td>\n",
       "      <td>1</td>\n",
       "      <td>1366</td>\n",
       "      <td>17410</td>\n",
       "      <td>20</td>\n",
       "      <td>0</td>\n",
       "      <td>1906.0</td>\n",
       "      <td>18868.0</td>\n",
       "    </tr>\n",
       "    <tr>\n",
       "      <th>3</th>\n",
       "      <td>0</td>\n",
       "      <td>1</td>\n",
       "      <td>1</td>\n",
       "      <td>1622</td>\n",
       "      <td>18578</td>\n",
       "      <td>12</td>\n",
       "      <td>0</td>\n",
       "      <td>895.0</td>\n",
       "      <td>13492.0</td>\n",
       "    </tr>\n",
       "    <tr>\n",
       "      <th>4</th>\n",
       "      <td>0</td>\n",
       "      <td>1</td>\n",
       "      <td>1</td>\n",
       "      <td>1357</td>\n",
       "      <td>19187</td>\n",
       "      <td>20</td>\n",
       "      <td>0</td>\n",
       "      <td>1328.0</td>\n",
       "      <td>16492.0</td>\n",
       "    </tr>\n",
       "  </tbody>\n",
       "</table>\n",
       "</div>"
      ],
      "text/plain": [
       "   Gender  Region  Channel  Amt_spent_in_last_year  Total_amt_spent  \\\n",
       "0       0       1        1                    1187            19258   \n",
       "1       1       0        0                    1693            14900   \n",
       "2       0       0        1                    1366            17410   \n",
       "3       0       1        1                    1622            18578   \n",
       "4       0       1        1                    1357            19187   \n",
       "\n",
       "   Total_visits Churn  duration      age  \n",
       "0            20     0    1823.0  18383.0  \n",
       "1            20     0    1533.0  10828.0  \n",
       "2            20     0    1906.0  18868.0  \n",
       "3            12     0     895.0  13492.0  \n",
       "4            20     0    1328.0  16492.0  "
      ]
     },
     "execution_count": 49,
     "metadata": {},
     "output_type": "execute_result"
    }
   ],
   "source": [
    "train_data.head()"
   ]
  },
  {
   "cell_type": "code",
   "execution_count": 50,
   "metadata": {
    "collapsed": true
   },
   "outputs": [],
   "source": [
    "#splitting the data\n",
    "xtrain,ytrain,xtest,ytest=train_test_split(train_data.iloc[:,[0,1,2,3,4,5,7,8]],train_data['Churn'],test_size=0.3)"
   ]
  },
  {
   "cell_type": "code",
   "execution_count": 51,
   "metadata": {},
   "outputs": [
    {
     "data": {
      "text/html": [
       "<div>\n",
       "<style>\n",
       "    .dataframe thead tr:only-child th {\n",
       "        text-align: right;\n",
       "    }\n",
       "\n",
       "    .dataframe thead th {\n",
       "        text-align: left;\n",
       "    }\n",
       "\n",
       "    .dataframe tbody tr th {\n",
       "        vertical-align: top;\n",
       "    }\n",
       "</style>\n",
       "<table border=\"1\" class=\"dataframe\">\n",
       "  <thead>\n",
       "    <tr style=\"text-align: right;\">\n",
       "      <th></th>\n",
       "      <th>Gender</th>\n",
       "      <th>Region</th>\n",
       "      <th>Channel</th>\n",
       "      <th>Amt_spent_in_last_year</th>\n",
       "      <th>Total_amt_spent</th>\n",
       "      <th>Total_visits</th>\n",
       "      <th>duration</th>\n",
       "      <th>age</th>\n",
       "    </tr>\n",
       "  </thead>\n",
       "  <tbody>\n",
       "    <tr>\n",
       "      <th>28320</th>\n",
       "      <td>1</td>\n",
       "      <td>1</td>\n",
       "      <td>1</td>\n",
       "      <td>1419</td>\n",
       "      <td>18421</td>\n",
       "      <td>15</td>\n",
       "      <td>1288.0</td>\n",
       "      <td>18700.0</td>\n",
       "    </tr>\n",
       "    <tr>\n",
       "      <th>15422</th>\n",
       "      <td>1</td>\n",
       "      <td>1</td>\n",
       "      <td>0</td>\n",
       "      <td>1534</td>\n",
       "      <td>13797</td>\n",
       "      <td>12</td>\n",
       "      <td>1639.0</td>\n",
       "      <td>15336.0</td>\n",
       "    </tr>\n",
       "    <tr>\n",
       "      <th>1895</th>\n",
       "      <td>1</td>\n",
       "      <td>1</td>\n",
       "      <td>1</td>\n",
       "      <td>1581</td>\n",
       "      <td>7585</td>\n",
       "      <td>20</td>\n",
       "      <td>1280.0</td>\n",
       "      <td>13943.0</td>\n",
       "    </tr>\n",
       "    <tr>\n",
       "      <th>13337</th>\n",
       "      <td>0</td>\n",
       "      <td>0</td>\n",
       "      <td>0</td>\n",
       "      <td>1602</td>\n",
       "      <td>20475</td>\n",
       "      <td>8</td>\n",
       "      <td>1288.0</td>\n",
       "      <td>17540.0</td>\n",
       "    </tr>\n",
       "    <tr>\n",
       "      <th>12961</th>\n",
       "      <td>1</td>\n",
       "      <td>1</td>\n",
       "      <td>0</td>\n",
       "      <td>1362</td>\n",
       "      <td>17946</td>\n",
       "      <td>7</td>\n",
       "      <td>1076.0</td>\n",
       "      <td>13337.0</td>\n",
       "    </tr>\n",
       "  </tbody>\n",
       "</table>\n",
       "</div>"
      ],
      "text/plain": [
       "       Gender  Region  Channel  Amt_spent_in_last_year  Total_amt_spent  \\\n",
       "28320       1       1        1                    1419            18421   \n",
       "15422       1       1        0                    1534            13797   \n",
       "1895        1       1        1                    1581             7585   \n",
       "13337       0       0        0                    1602            20475   \n",
       "12961       1       1        0                    1362            17946   \n",
       "\n",
       "       Total_visits  duration      age  \n",
       "28320            15    1288.0  18700.0  \n",
       "15422            12    1639.0  15336.0  \n",
       "1895             20    1280.0  13943.0  \n",
       "13337             8    1288.0  17540.0  \n",
       "12961             7    1076.0  13337.0  "
      ]
     },
     "execution_count": 51,
     "metadata": {},
     "output_type": "execute_result"
    }
   ],
   "source": [
    "xtrain.head()"
   ]
  },
  {
   "cell_type": "code",
   "execution_count": 52,
   "metadata": {},
   "outputs": [
    {
     "data": {
      "text/plain": [
       "28320    0\n",
       "15422    0\n",
       "1895     0\n",
       "13337    0\n",
       "12961    0\n",
       "Name: Churn, dtype: object"
      ]
     },
     "execution_count": 52,
     "metadata": {},
     "output_type": "execute_result"
    }
   ],
   "source": [
    "xtest.head()"
   ]
  },
  {
   "cell_type": "code",
   "execution_count": 53,
   "metadata": {},
   "outputs": [
    {
     "data": {
      "text/plain": [
       "Gender                    21000\n",
       "Region                    21000\n",
       "Channel                   21000\n",
       "Amt_spent_in_last_year    21000\n",
       "Total_amt_spent           21000\n",
       "Total_visits              21000\n",
       "duration                  21000\n",
       "age                       21000\n",
       "dtype: int64"
      ]
     },
     "execution_count": 53,
     "metadata": {},
     "output_type": "execute_result"
    }
   ],
   "source": [
    "xtrain.count()"
   ]
  },
  {
   "cell_type": "code",
   "execution_count": 54,
   "metadata": {},
   "outputs": [
    {
     "data": {
      "text/plain": [
       "21000"
      ]
     },
     "execution_count": 54,
     "metadata": {},
     "output_type": "execute_result"
    }
   ],
   "source": [
    "xtest.count()"
   ]
  },
  {
   "cell_type": "code",
   "execution_count": 55,
   "metadata": {},
   "outputs": [
    {
     "data": {
      "text/plain": [
       "Counter({0: 18905, 1: 2095})"
      ]
     },
     "execution_count": 55,
     "metadata": {},
     "output_type": "execute_result"
    }
   ],
   "source": [
    "Counter(xtest)"
   ]
  },
  {
   "cell_type": "code",
   "execution_count": 56,
   "metadata": {
    "collapsed": true
   },
   "outputs": [],
   "source": [
    "#storing xtrain for backup\n",
    "newdata=xtrain"
   ]
  },
  {
   "cell_type": "code",
   "execution_count": 57,
   "metadata": {
    "collapsed": true
   },
   "outputs": [],
   "source": [
    "#adding a new column as churn and storing the xtest value\n",
    "newdata['churn']=xtest"
   ]
  },
  {
   "cell_type": "code",
   "execution_count": 58,
   "metadata": {},
   "outputs": [
    {
     "data": {
      "text/html": [
       "<div>\n",
       "<style>\n",
       "    .dataframe thead tr:only-child th {\n",
       "        text-align: right;\n",
       "    }\n",
       "\n",
       "    .dataframe thead th {\n",
       "        text-align: left;\n",
       "    }\n",
       "\n",
       "    .dataframe tbody tr th {\n",
       "        vertical-align: top;\n",
       "    }\n",
       "</style>\n",
       "<table border=\"1\" class=\"dataframe\">\n",
       "  <thead>\n",
       "    <tr style=\"text-align: right;\">\n",
       "      <th></th>\n",
       "      <th>Gender</th>\n",
       "      <th>Region</th>\n",
       "      <th>Channel</th>\n",
       "      <th>Amt_spent_in_last_year</th>\n",
       "      <th>Total_amt_spent</th>\n",
       "      <th>Total_visits</th>\n",
       "      <th>duration</th>\n",
       "      <th>age</th>\n",
       "      <th>churn</th>\n",
       "    </tr>\n",
       "  </thead>\n",
       "  <tbody>\n",
       "    <tr>\n",
       "      <th>14105</th>\n",
       "      <td>1</td>\n",
       "      <td>0</td>\n",
       "      <td>0</td>\n",
       "      <td>1426</td>\n",
       "      <td>19468</td>\n",
       "      <td>12</td>\n",
       "      <td>1149.0</td>\n",
       "      <td>16597.0</td>\n",
       "      <td>0</td>\n",
       "    </tr>\n",
       "    <tr>\n",
       "      <th>818</th>\n",
       "      <td>0</td>\n",
       "      <td>1</td>\n",
       "      <td>0</td>\n",
       "      <td>1749</td>\n",
       "      <td>19079</td>\n",
       "      <td>20</td>\n",
       "      <td>2017.0</td>\n",
       "      <td>12267.0</td>\n",
       "      <td>1</td>\n",
       "    </tr>\n",
       "    <tr>\n",
       "      <th>6560</th>\n",
       "      <td>0</td>\n",
       "      <td>0</td>\n",
       "      <td>0</td>\n",
       "      <td>1695</td>\n",
       "      <td>26921</td>\n",
       "      <td>10</td>\n",
       "      <td>1227.0</td>\n",
       "      <td>14280.0</td>\n",
       "      <td>0</td>\n",
       "    </tr>\n",
       "    <tr>\n",
       "      <th>25361</th>\n",
       "      <td>0</td>\n",
       "      <td>1</td>\n",
       "      <td>0</td>\n",
       "      <td>1264</td>\n",
       "      <td>16110</td>\n",
       "      <td>8</td>\n",
       "      <td>1524.0</td>\n",
       "      <td>16791.0</td>\n",
       "      <td>0</td>\n",
       "    </tr>\n",
       "    <tr>\n",
       "      <th>6334</th>\n",
       "      <td>0</td>\n",
       "      <td>1</td>\n",
       "      <td>1</td>\n",
       "      <td>1180</td>\n",
       "      <td>15193</td>\n",
       "      <td>20</td>\n",
       "      <td>1525.0</td>\n",
       "      <td>20059.0</td>\n",
       "      <td>0</td>\n",
       "    </tr>\n",
       "  </tbody>\n",
       "</table>\n",
       "</div>"
      ],
      "text/plain": [
       "       Gender  Region  Channel  Amt_spent_in_last_year  Total_amt_spent  \\\n",
       "14105       1       0        0                    1426            19468   \n",
       "818         0       1        0                    1749            19079   \n",
       "6560        0       0        0                    1695            26921   \n",
       "25361       0       1        0                    1264            16110   \n",
       "6334        0       1        1                    1180            15193   \n",
       "\n",
       "       Total_visits  duration      age churn  \n",
       "14105            12    1149.0  16597.0     0  \n",
       "818              20    2017.0  12267.0     1  \n",
       "6560             10    1227.0  14280.0     0  \n",
       "25361             8    1524.0  16791.0     0  \n",
       "6334             20    1525.0  20059.0     0  "
      ]
     },
     "execution_count": 58,
     "metadata": {},
     "output_type": "execute_result"
    }
   ],
   "source": [
    "newdata.tail()"
   ]
  },
  {
   "cell_type": "code",
   "execution_count": 59,
   "metadata": {
    "collapsed": true
   },
   "outputs": [],
   "source": [
    "#creating a dataframe with all churn values one\n",
    "churn1=train_data[train_data.Churn==1]"
   ]
  },
  {
   "cell_type": "code",
   "execution_count": 60,
   "metadata": {
    "collapsed": true
   },
   "outputs": [],
   "source": [
    "#creating dataframe with all values zero, that is required for cross validation\n",
    "churn=train_data[train_data.Churn==0]"
   ]
  },
  {
   "cell_type": "code",
   "execution_count": 61,
   "metadata": {},
   "outputs": [
    {
     "data": {
      "text/plain": [
       "Gender                    3007\n",
       "Region                    3007\n",
       "Channel                   3007\n",
       "Amt_spent_in_last_year    3007\n",
       "Total_amt_spent           3007\n",
       "Total_visits              3007\n",
       "Churn                     3007\n",
       "duration                  3007\n",
       "age                       3007\n",
       "dtype: int64"
      ]
     },
     "execution_count": 61,
     "metadata": {},
     "output_type": "execute_result"
    }
   ],
   "source": [
    "churn1.count()"
   ]
  },
  {
   "cell_type": "code",
   "execution_count": 62,
   "metadata": {},
   "outputs": [],
   "source": [
    "#taking 4000 rows randomly where the churn is zero(undersampling)\n",
    "churn0=churn.sample(n=3007)"
   ]
  },
  {
   "cell_type": "code",
   "execution_count": 63,
   "metadata": {},
   "outputs": [],
   "source": [
    "#adding two data frames(one with all zeros and another with ones)\n",
    "small_data=churn1.append(churn0)"
   ]
  },
  {
   "cell_type": "code",
   "execution_count": 64,
   "metadata": {},
   "outputs": [],
   "source": [
    "#changing the indexes\n",
    "small_data=small_data.sample(frac=1).reset_index(drop=True)"
   ]
  },
  {
   "cell_type": "code",
   "execution_count": 65,
   "metadata": {
    "collapsed": true
   },
   "outputs": [],
   "source": [
    "#the independent variables\n",
    "smallTrain=small_data.iloc[:,[0,1,2,3,4,5,7,8]]"
   ]
  },
  {
   "cell_type": "code",
   "execution_count": 66,
   "metadata": {
    "collapsed": true
   },
   "outputs": [],
   "source": [
    "#dependent variable\n",
    "smallTest=small_data.iloc[:,6]"
   ]
  },
  {
   "cell_type": "code",
   "execution_count": 67,
   "metadata": {},
   "outputs": [
    {
     "data": {
      "text/plain": [
       "Counter({0: 18905, 1: 2095})"
      ]
     },
     "execution_count": 67,
     "metadata": {},
     "output_type": "execute_result"
    }
   ],
   "source": [
    "Counter(xtest)"
   ]
  },
  {
   "cell_type": "code",
   "execution_count": 68,
   "metadata": {},
   "outputs": [
    {
     "data": {
      "text/plain": [
       "Gender                      uint8\n",
       "Region                      uint8\n",
       "Channel                     uint8\n",
       "Amt_spent_in_last_year      int64\n",
       "Total_amt_spent             int64\n",
       "Total_visits                int64\n",
       "duration                  float64\n",
       "age                       float64\n",
       "dtype: object"
      ]
     },
     "execution_count": 68,
     "metadata": {},
     "output_type": "execute_result"
    }
   ],
   "source": [
    "smallTrain.dtypes"
   ]
  },
  {
   "cell_type": "code",
   "execution_count": 69,
   "metadata": {},
   "outputs": [
    {
     "data": {
      "text/html": [
       "<div>\n",
       "<style>\n",
       "    .dataframe thead tr:only-child th {\n",
       "        text-align: right;\n",
       "    }\n",
       "\n",
       "    .dataframe thead th {\n",
       "        text-align: left;\n",
       "    }\n",
       "\n",
       "    .dataframe tbody tr th {\n",
       "        vertical-align: top;\n",
       "    }\n",
       "</style>\n",
       "<table border=\"1\" class=\"dataframe\">\n",
       "  <thead>\n",
       "    <tr style=\"text-align: right;\">\n",
       "      <th></th>\n",
       "      <th>Gender</th>\n",
       "      <th>Region</th>\n",
       "      <th>Channel</th>\n",
       "      <th>Amt_spent_in_last_year</th>\n",
       "      <th>Total_amt_spent</th>\n",
       "      <th>Total_visits</th>\n",
       "      <th>duration</th>\n",
       "      <th>age</th>\n",
       "    </tr>\n",
       "  </thead>\n",
       "  <tbody>\n",
       "    <tr>\n",
       "      <th>0</th>\n",
       "      <td>1</td>\n",
       "      <td>1</td>\n",
       "      <td>1</td>\n",
       "      <td>1357</td>\n",
       "      <td>24941</td>\n",
       "      <td>20</td>\n",
       "      <td>2318.0</td>\n",
       "      <td>12921.0</td>\n",
       "    </tr>\n",
       "    <tr>\n",
       "      <th>1</th>\n",
       "      <td>0</td>\n",
       "      <td>0</td>\n",
       "      <td>0</td>\n",
       "      <td>1562</td>\n",
       "      <td>14407</td>\n",
       "      <td>12</td>\n",
       "      <td>1026.0</td>\n",
       "      <td>18038.0</td>\n",
       "    </tr>\n",
       "    <tr>\n",
       "      <th>2</th>\n",
       "      <td>1</td>\n",
       "      <td>1</td>\n",
       "      <td>1</td>\n",
       "      <td>1768</td>\n",
       "      <td>18036</td>\n",
       "      <td>10</td>\n",
       "      <td>2312.0</td>\n",
       "      <td>10251.0</td>\n",
       "    </tr>\n",
       "    <tr>\n",
       "      <th>3</th>\n",
       "      <td>0</td>\n",
       "      <td>0</td>\n",
       "      <td>1</td>\n",
       "      <td>1280</td>\n",
       "      <td>18229</td>\n",
       "      <td>20</td>\n",
       "      <td>1166.0</td>\n",
       "      <td>15259.0</td>\n",
       "    </tr>\n",
       "    <tr>\n",
       "      <th>4</th>\n",
       "      <td>1</td>\n",
       "      <td>1</td>\n",
       "      <td>0</td>\n",
       "      <td>1741</td>\n",
       "      <td>14871</td>\n",
       "      <td>20</td>\n",
       "      <td>2035.0</td>\n",
       "      <td>13673.0</td>\n",
       "    </tr>\n",
       "  </tbody>\n",
       "</table>\n",
       "</div>"
      ],
      "text/plain": [
       "   Gender  Region  Channel  Amt_spent_in_last_year  Total_amt_spent  \\\n",
       "0       1       1        1                    1357            24941   \n",
       "1       0       0        0                    1562            14407   \n",
       "2       1       1        1                    1768            18036   \n",
       "3       0       0        1                    1280            18229   \n",
       "4       1       1        0                    1741            14871   \n",
       "\n",
       "   Total_visits  duration      age  \n",
       "0            20    2318.0  12921.0  \n",
       "1            12    1026.0  18038.0  \n",
       "2            10    2312.0  10251.0  \n",
       "3            20    1166.0  15259.0  \n",
       "4            20    2035.0  13673.0  "
      ]
     },
     "execution_count": 69,
     "metadata": {},
     "output_type": "execute_result"
    }
   ],
   "source": [
    "smallTrain.head()"
   ]
  },
  {
   "cell_type": "code",
   "execution_count": 70,
   "metadata": {},
   "outputs": [
    {
     "data": {
      "text/plain": [
       "0    1\n",
       "1    1\n",
       "2    0\n",
       "3    0\n",
       "4    1\n",
       "Name: Churn, dtype: object"
      ]
     },
     "execution_count": 70,
     "metadata": {},
     "output_type": "execute_result"
    }
   ],
   "source": [
    "smallTest.head()"
   ]
  },
  {
   "cell_type": "code",
   "execution_count": 71,
   "metadata": {
    "collapsed": true
   },
   "outputs": [],
   "source": [
    "#calling decision tree classifier\n",
    "from sklearn import tree"
   ]
  },
  {
   "cell_type": "code",
   "execution_count": 72,
   "metadata": {
    "collapsed": true
   },
   "outputs": [],
   "source": [
    "#creating decision tree model\n",
    "decissionTree=tree.DecisionTreeClassifier()"
   ]
  },
  {
   "cell_type": "code",
   "execution_count": 73,
   "metadata": {
    "collapsed": true
   },
   "outputs": [],
   "source": [
    "#changing all variables of the dataframe into integer\n",
    "smallTest=smallTest.astype(int)"
   ]
  },
  {
   "cell_type": "code",
   "execution_count": 74,
   "metadata": {
    "collapsed": true
   },
   "outputs": [],
   "source": [
    "#fitting the model\n",
    "treeModel=decissionTree.fit(smallTrain,smallTest.astype(int))"
   ]
  },
  {
   "cell_type": "code",
   "execution_count": 75,
   "metadata": {
    "collapsed": true
   },
   "outputs": [],
   "source": [
    "#decision tree predicted output(for cross validation)\n",
    "predTree=treeModel.predict(ytrain)"
   ]
  },
  {
   "cell_type": "code",
   "execution_count": 76,
   "metadata": {
    "collapsed": true
   },
   "outputs": [],
   "source": [
    "#calling to check the accuracy\n",
    "from sklearn import metrics"
   ]
  },
  {
   "cell_type": "code",
   "execution_count": 77,
   "metadata": {
    "collapsed": true
   },
   "outputs": [],
   "source": [
    "ytest=ytest.astype(int)"
   ]
  },
  {
   "cell_type": "code",
   "execution_count": 78,
   "metadata": {},
   "outputs": [
    {
     "data": {
      "text/plain": [
       "array([0, 1, 1, ..., 0, 1, 0])"
      ]
     },
     "execution_count": 78,
     "metadata": {},
     "output_type": "execute_result"
    }
   ],
   "source": [
    "predTree"
   ]
  },
  {
   "cell_type": "code",
   "execution_count": 79,
   "metadata": {},
   "outputs": [
    {
     "data": {
      "text/plain": [
       "0.61077777777777775"
      ]
     },
     "execution_count": 79,
     "metadata": {},
     "output_type": "execute_result"
    }
   ],
   "source": [
    "#accuracy score\n",
    "metrics.accuracy_score(predTree,ytest)"
   ]
  },
  {
   "cell_type": "code",
   "execution_count": 80,
   "metadata": {
    "collapsed": true
   },
   "outputs": [],
   "source": [
    "#metrics.cohen_kappa_score(predTree,ytest)"
   ]
  },
  {
   "cell_type": "code",
   "execution_count": 81,
   "metadata": {
    "collapsed": true
   },
   "outputs": [],
   "source": [
    "#metrics.roc_auc_score(predTree,ytest)"
   ]
  },
  {
   "cell_type": "code",
   "execution_count": 82,
   "metadata": {
    "collapsed": true
   },
   "outputs": [],
   "source": [
    "#decision tree probability output\n",
    "#predictPROBA=treeModel.predict_proba(ytrain)"
   ]
  },
  {
   "cell_type": "code",
   "execution_count": 83,
   "metadata": {
    "collapsed": true
   },
   "outputs": [],
   "source": [
    "#predictPROBA"
   ]
  },
  {
   "cell_type": "code",
   "execution_count": 84,
   "metadata": {
    "collapsed": true
   },
   "outputs": [],
   "source": [
    "#calling for logistic regression\n",
    "from sklearn import linear_model"
   ]
  },
  {
   "cell_type": "code",
   "execution_count": 85,
   "metadata": {
    "collapsed": true
   },
   "outputs": [],
   "source": [
    "#model creation\n",
    "logistic=linear_model.LogisticRegression()"
   ]
  },
  {
   "cell_type": "code",
   "execution_count": 86,
   "metadata": {
    "collapsed": true
   },
   "outputs": [],
   "source": [
    "#fitting the data into logistic model\n",
    "model_Logistic=logistic.fit(smallTrain,smallTest.astype(int))"
   ]
  },
  {
   "cell_type": "code",
   "execution_count": 87,
   "metadata": {
    "collapsed": true
   },
   "outputs": [],
   "source": [
    "predictLogistic=model_Logistic.predict(ytrain)"
   ]
  },
  {
   "cell_type": "code",
   "execution_count": 88,
   "metadata": {},
   "outputs": [
    {
     "data": {
      "text/plain": [
       "0.499"
      ]
     },
     "execution_count": 88,
     "metadata": {},
     "output_type": "execute_result"
    }
   ],
   "source": [
    "metrics.accuracy_score(predictLogistic,ytest)"
   ]
  },
  {
   "cell_type": "code",
   "execution_count": 89,
   "metadata": {},
   "outputs": [
    {
     "data": {
      "text/plain": [
       "array([[ 0.50572121,  0.49427879],\n",
       "       [ 0.49377224,  0.50622776],\n",
       "       [ 0.51747246,  0.48252754],\n",
       "       ..., \n",
       "       [ 0.50639694,  0.49360306],\n",
       "       [ 0.50623242,  0.49376758],\n",
       "       [ 0.5209401 ,  0.4790599 ]])"
      ]
     },
     "execution_count": 89,
     "metadata": {},
     "output_type": "execute_result"
    }
   ],
   "source": [
    "#logistic model probability data\n",
    "model_Logistic.predict_proba(ytrain)"
   ]
  },
  {
   "cell_type": "code",
   "execution_count": 90,
   "metadata": {
    "collapsed": true
   },
   "outputs": [],
   "source": [
    "#calling for knn algorithm\n",
    "from sklearn import neighbors"
   ]
  },
  {
   "cell_type": "code",
   "execution_count": 91,
   "metadata": {},
   "outputs": [
    {
     "name": "stdout",
     "output_type": "stream",
     "text": [
      "1\n",
      "0.209318810231\n",
      "2\n",
      "0.178849526163\n",
      "3\n",
      "0.10098723218\n",
      "4\n",
      "0.100079080069\n",
      "5\n",
      "0.0745717224712\n",
      "6\n",
      "0.0812096315878\n",
      "7\n",
      "0.0618060793384\n",
      "8\n",
      "0.0641599319566\n",
      "9\n",
      "0.0438154405317\n"
     ]
    }
   ],
   "source": [
    "#selecting the value of k in knn(parameter tuning)\n",
    "for i in range(1,10):\n",
    "    knn=neighbors.KNeighborsClassifier(n_neighbors=i)\n",
    "    modelKnn=knn.fit(smallTrain,smallTest.astype(int))\n",
    "    predKnn=modelKnn.predict(ytrain)\n",
    "    w= metrics.cohen_kappa_score(predKnn,ytest)\n",
    "    print i\n",
    "    print w"
   ]
  },
  {
   "cell_type": "code",
   "execution_count": 92,
   "metadata": {
    "collapsed": true
   },
   "outputs": [],
   "source": [
    "#k=3 gives best result, so we can siign the k value of 3\n",
    "knn=neighbors.KNeighborsClassifier(n_neighbors=2)"
   ]
  },
  {
   "cell_type": "code",
   "execution_count": 93,
   "metadata": {
    "collapsed": true
   },
   "outputs": [],
   "source": [
    "#fitting into knn model\n",
    "modelKnn=knn.fit(smallTrain,smallTest.astype(int))"
   ]
  },
  {
   "cell_type": "code",
   "execution_count": 94,
   "metadata": {
    "collapsed": true
   },
   "outputs": [],
   "source": [
    "#knn predicted data(cross validation)\n",
    "predKnn=modelKnn.predict(ytrain)"
   ]
  },
  {
   "cell_type": "code",
   "execution_count": 95,
   "metadata": {},
   "outputs": [
    {
     "data": {
      "text/plain": [
       "0.75900000000000001"
      ]
     },
     "execution_count": 95,
     "metadata": {},
     "output_type": "execute_result"
    }
   ],
   "source": [
    "metrics.accuracy_score(predKnn,ytest)"
   ]
  },
  {
   "cell_type": "code",
   "execution_count": 96,
   "metadata": {
    "collapsed": true
   },
   "outputs": [],
   "source": [
    "#metrics.cohen_kappa_score(predKnn,ytest)"
   ]
  },
  {
   "cell_type": "code",
   "execution_count": 97,
   "metadata": {
    "collapsed": true
   },
   "outputs": [],
   "source": [
    "#metrics.roc_auc_score(predKnn,ytest)"
   ]
  },
  {
   "cell_type": "code",
   "execution_count": 98,
   "metadata": {},
   "outputs": [
    {
     "data": {
      "text/plain": [
       "array([[ 0. ,  1. ],\n",
       "       [ 0. ,  1. ],\n",
       "       [ 0.5,  0.5],\n",
       "       ..., \n",
       "       [ 1. ,  0. ],\n",
       "       [ 1. ,  0. ],\n",
       "       [ 0.5,  0.5]])"
      ]
     },
     "execution_count": 98,
     "metadata": {},
     "output_type": "execute_result"
    }
   ],
   "source": [
    "#knn probability output\n",
    "modelKnn.predict_proba(ytrain)"
   ]
  },
  {
   "cell_type": "code",
   "execution_count": 99,
   "metadata": {},
   "outputs": [
    {
     "data": {
      "text/html": [
       "<div>\n",
       "<style>\n",
       "    .dataframe thead tr:only-child th {\n",
       "        text-align: right;\n",
       "    }\n",
       "\n",
       "    .dataframe thead th {\n",
       "        text-align: left;\n",
       "    }\n",
       "\n",
       "    .dataframe tbody tr th {\n",
       "        vertical-align: top;\n",
       "    }\n",
       "</style>\n",
       "<table border=\"1\" class=\"dataframe\">\n",
       "  <thead>\n",
       "    <tr style=\"text-align: right;\">\n",
       "      <th></th>\n",
       "      <th>Gender</th>\n",
       "      <th>Region</th>\n",
       "      <th>Channel</th>\n",
       "      <th>Amt_spent_in_last_year</th>\n",
       "      <th>Total_amt_spent</th>\n",
       "      <th>Total_visits</th>\n",
       "      <th>duration</th>\n",
       "      <th>age</th>\n",
       "    </tr>\n",
       "  </thead>\n",
       "  <tbody>\n",
       "    <tr>\n",
       "      <th>0</th>\n",
       "      <td>1</td>\n",
       "      <td>0</td>\n",
       "      <td>0</td>\n",
       "      <td>1594</td>\n",
       "      <td>18202</td>\n",
       "      <td>7</td>\n",
       "      <td>1242.0</td>\n",
       "      <td>17244.0</td>\n",
       "    </tr>\n",
       "    <tr>\n",
       "      <th>1</th>\n",
       "      <td>1</td>\n",
       "      <td>1</td>\n",
       "      <td>1</td>\n",
       "      <td>1639</td>\n",
       "      <td>13000</td>\n",
       "      <td>20</td>\n",
       "      <td>1620.0</td>\n",
       "      <td>13668.0</td>\n",
       "    </tr>\n",
       "    <tr>\n",
       "      <th>2</th>\n",
       "      <td>1</td>\n",
       "      <td>1</td>\n",
       "      <td>0</td>\n",
       "      <td>1840</td>\n",
       "      <td>18424</td>\n",
       "      <td>20</td>\n",
       "      <td>2407.0</td>\n",
       "      <td>18686.0</td>\n",
       "    </tr>\n",
       "    <tr>\n",
       "      <th>3</th>\n",
       "      <td>0</td>\n",
       "      <td>1</td>\n",
       "      <td>1</td>\n",
       "      <td>1859</td>\n",
       "      <td>21178</td>\n",
       "      <td>9</td>\n",
       "      <td>2215.0</td>\n",
       "      <td>18326.0</td>\n",
       "    </tr>\n",
       "    <tr>\n",
       "      <th>4</th>\n",
       "      <td>0</td>\n",
       "      <td>1</td>\n",
       "      <td>0</td>\n",
       "      <td>1609</td>\n",
       "      <td>19471</td>\n",
       "      <td>20</td>\n",
       "      <td>1033.0</td>\n",
       "      <td>12485.0</td>\n",
       "    </tr>\n",
       "  </tbody>\n",
       "</table>\n",
       "</div>"
      ],
      "text/plain": [
       "   Gender  Region  Channel  Amt_spent_in_last_year  Total_amt_spent  \\\n",
       "0       1       0        0                    1594            18202   \n",
       "1       1       1        1                    1639            13000   \n",
       "2       1       1        0                    1840            18424   \n",
       "3       0       1        1                    1859            21178   \n",
       "4       0       1        0                    1609            19471   \n",
       "\n",
       "   Total_visits  duration      age  \n",
       "0             7    1242.0  17244.0  \n",
       "1            20    1620.0  13668.0  \n",
       "2            20    2407.0  18686.0  \n",
       "3             9    2215.0  18326.0  \n",
       "4            20    1033.0  12485.0  "
      ]
     },
     "execution_count": 99,
     "metadata": {},
     "output_type": "execute_result"
    }
   ],
   "source": [
    "retail_test_data.head()"
   ]
  },
  {
   "cell_type": "code",
   "execution_count": 100,
   "metadata": {},
   "outputs": [
    {
     "data": {
      "text/html": [
       "<div>\n",
       "<style>\n",
       "    .dataframe thead tr:only-child th {\n",
       "        text-align: right;\n",
       "    }\n",
       "\n",
       "    .dataframe thead th {\n",
       "        text-align: left;\n",
       "    }\n",
       "\n",
       "    .dataframe tbody tr th {\n",
       "        vertical-align: top;\n",
       "    }\n",
       "</style>\n",
       "<table border=\"1\" class=\"dataframe\">\n",
       "  <thead>\n",
       "    <tr style=\"text-align: right;\">\n",
       "      <th></th>\n",
       "      <th>Gender</th>\n",
       "      <th>Region</th>\n",
       "      <th>Channel</th>\n",
       "      <th>Amt_spent_in_last_year</th>\n",
       "      <th>Total_amt_spent</th>\n",
       "      <th>Total_visits</th>\n",
       "      <th>duration</th>\n",
       "      <th>age</th>\n",
       "    </tr>\n",
       "  </thead>\n",
       "  <tbody>\n",
       "    <tr>\n",
       "      <th>0</th>\n",
       "      <td>1</td>\n",
       "      <td>1</td>\n",
       "      <td>1</td>\n",
       "      <td>1357</td>\n",
       "      <td>24941</td>\n",
       "      <td>20</td>\n",
       "      <td>2318.0</td>\n",
       "      <td>12921.0</td>\n",
       "    </tr>\n",
       "    <tr>\n",
       "      <th>1</th>\n",
       "      <td>0</td>\n",
       "      <td>0</td>\n",
       "      <td>0</td>\n",
       "      <td>1562</td>\n",
       "      <td>14407</td>\n",
       "      <td>12</td>\n",
       "      <td>1026.0</td>\n",
       "      <td>18038.0</td>\n",
       "    </tr>\n",
       "    <tr>\n",
       "      <th>2</th>\n",
       "      <td>1</td>\n",
       "      <td>1</td>\n",
       "      <td>1</td>\n",
       "      <td>1768</td>\n",
       "      <td>18036</td>\n",
       "      <td>10</td>\n",
       "      <td>2312.0</td>\n",
       "      <td>10251.0</td>\n",
       "    </tr>\n",
       "    <tr>\n",
       "      <th>3</th>\n",
       "      <td>0</td>\n",
       "      <td>0</td>\n",
       "      <td>1</td>\n",
       "      <td>1280</td>\n",
       "      <td>18229</td>\n",
       "      <td>20</td>\n",
       "      <td>1166.0</td>\n",
       "      <td>15259.0</td>\n",
       "    </tr>\n",
       "    <tr>\n",
       "      <th>4</th>\n",
       "      <td>1</td>\n",
       "      <td>1</td>\n",
       "      <td>0</td>\n",
       "      <td>1741</td>\n",
       "      <td>14871</td>\n",
       "      <td>20</td>\n",
       "      <td>2035.0</td>\n",
       "      <td>13673.0</td>\n",
       "    </tr>\n",
       "  </tbody>\n",
       "</table>\n",
       "</div>"
      ],
      "text/plain": [
       "   Gender  Region  Channel  Amt_spent_in_last_year  Total_amt_spent  \\\n",
       "0       1       1        1                    1357            24941   \n",
       "1       0       0        0                    1562            14407   \n",
       "2       1       1        1                    1768            18036   \n",
       "3       0       0        1                    1280            18229   \n",
       "4       1       1        0                    1741            14871   \n",
       "\n",
       "   Total_visits  duration      age  \n",
       "0            20    2318.0  12921.0  \n",
       "1            12    1026.0  18038.0  \n",
       "2            10    2312.0  10251.0  \n",
       "3            20    1166.0  15259.0  \n",
       "4            20    2035.0  13673.0  "
      ]
     },
     "execution_count": 100,
     "metadata": {},
     "output_type": "execute_result"
    }
   ],
   "source": [
    "smallTrain.head()"
   ]
  },
  {
   "cell_type": "code",
   "execution_count": 101,
   "metadata": {
    "collapsed": true
   },
   "outputs": [],
   "source": [
    "#creating the empty list\n",
    "result=[]"
   ]
  },
  {
   "cell_type": "code",
   "execution_count": 102,
   "metadata": {
    "collapsed": true
   },
   "outputs": [],
   "source": [
    "#converitng list to empty dataframe\n",
    "result=pd.DataFrame(result)"
   ]
  },
  {
   "cell_type": "code",
   "execution_count": 103,
   "metadata": {
    "collapsed": true
   },
   "outputs": [],
   "source": [
    "#predicted probability value of test data\n",
    "predProb=modelKnn.predict_proba(retail_test_data)"
   ]
  },
  {
   "cell_type": "code",
   "execution_count": 104,
   "metadata": {
    "collapsed": true
   },
   "outputs": [],
   "source": [
    "#empty list\n",
    "y=[]"
   ]
  },
  {
   "cell_type": "code",
   "execution_count": 105,
   "metadata": {
    "collapsed": true
   },
   "outputs": [],
   "source": [
    "#assigning the predicted probability knn in the list y\n",
    "for i in range(0,20000):\n",
    "    y.append(predProb[i][0])"
   ]
  },
  {
   "cell_type": "code",
   "execution_count": 106,
   "metadata": {
    "collapsed": true
   },
   "outputs": [],
   "source": [
    "#predicted probability of decision tree model\n",
    "predTree=treeModel.predict_proba(retail_test_data)"
   ]
  },
  {
   "cell_type": "code",
   "execution_count": 107,
   "metadata": {
    "collapsed": true
   },
   "outputs": [],
   "source": [
    "#predicted probability of logistic regression model\n",
    "predLogit=model_Logistic.predict_proba(retail_test_data)\n"
   ]
  },
  {
   "cell_type": "code",
   "execution_count": 108,
   "metadata": {
    "collapsed": true
   },
   "outputs": [],
   "source": [
    "#empty list\n",
    "z=[]"
   ]
  },
  {
   "cell_type": "code",
   "execution_count": 109,
   "metadata": {
    "collapsed": true
   },
   "outputs": [],
   "source": [
    "#storing the value of decision tree output\n",
    "for i in range(0,20000):\n",
    "    z.append(predTree[i][0])"
   ]
  },
  {
   "cell_type": "code",
   "execution_count": 110,
   "metadata": {
    "collapsed": true
   },
   "outputs": [],
   "source": [
    "#predProb[0][0]"
   ]
  },
  {
   "cell_type": "code",
   "execution_count": 111,
   "metadata": {
    "collapsed": true
   },
   "outputs": [],
   "source": [
    "#creating the first column of the output dataframe\n",
    "result['ID']=customer_test_raw_data.ID"
   ]
  },
  {
   "cell_type": "code",
   "execution_count": 112,
   "metadata": {
    "collapsed": true
   },
   "outputs": [],
   "source": [
    "#creating second column\n",
    "#we are taking kn output beacuse it gave the best result\n",
    "result['Churn']=y"
   ]
  },
  {
   "cell_type": "code",
   "execution_count": 113,
   "metadata": {},
   "outputs": [
    {
     "data": {
      "text/html": [
       "<div>\n",
       "<style>\n",
       "    .dataframe thead tr:only-child th {\n",
       "        text-align: right;\n",
       "    }\n",
       "\n",
       "    .dataframe thead th {\n",
       "        text-align: left;\n",
       "    }\n",
       "\n",
       "    .dataframe tbody tr th {\n",
       "        vertical-align: top;\n",
       "    }\n",
       "</style>\n",
       "<table border=\"1\" class=\"dataframe\">\n",
       "  <thead>\n",
       "    <tr style=\"text-align: right;\">\n",
       "      <th></th>\n",
       "      <th>ID</th>\n",
       "      <th>Churn</th>\n",
       "    </tr>\n",
       "  </thead>\n",
       "  <tbody>\n",
       "    <tr>\n",
       "      <th>0</th>\n",
       "      <td>1</td>\n",
       "      <td>0.5</td>\n",
       "    </tr>\n",
       "    <tr>\n",
       "      <th>1</th>\n",
       "      <td>2</td>\n",
       "      <td>0.5</td>\n",
       "    </tr>\n",
       "    <tr>\n",
       "      <th>2</th>\n",
       "      <td>3</td>\n",
       "      <td>0.5</td>\n",
       "    </tr>\n",
       "    <tr>\n",
       "      <th>3</th>\n",
       "      <td>4</td>\n",
       "      <td>0.0</td>\n",
       "    </tr>\n",
       "    <tr>\n",
       "      <th>4</th>\n",
       "      <td>5</td>\n",
       "      <td>0.5</td>\n",
       "    </tr>\n",
       "  </tbody>\n",
       "</table>\n",
       "</div>"
      ],
      "text/plain": [
       "   ID  Churn\n",
       "0   1    0.5\n",
       "1   2    0.5\n",
       "2   3    0.5\n",
       "3   4    0.0\n",
       "4   5    0.5"
      ]
     },
     "execution_count": 113,
     "metadata": {},
     "output_type": "execute_result"
    }
   ],
   "source": [
    "result.head()"
   ]
  },
  {
   "cell_type": "code",
   "execution_count": 114,
   "metadata": {
    "collapsed": true
   },
   "outputs": [],
   "source": [
    "#creating the csv file of the output\n",
    "result.to_csv('sub4.csv')"
   ]
  },
  {
   "cell_type": "code",
   "execution_count": null,
   "metadata": {
    "collapsed": true
   },
   "outputs": [],
   "source": []
  }
 ],
 "metadata": {
  "kernelspec": {
   "display_name": "Python 2",
   "language": "python",
   "name": "python2"
  },
  "language_info": {
   "codemirror_mode": {
    "name": "ipython",
    "version": 2
   },
   "file_extension": ".py",
   "mimetype": "text/x-python",
   "name": "python",
   "nbconvert_exporter": "python",
   "pygments_lexer": "ipython2",
   "version": "2.7.13"
  }
 },
 "nbformat": 4,
 "nbformat_minor": 2
}
